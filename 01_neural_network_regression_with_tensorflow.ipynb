{
  "nbformat": 4,
  "nbformat_minor": 0,
  "metadata": {
    "colab": {
      "name": "01_neural_network_regression_with_tensorflow.ipynb",
      "provenance": [],
      "collapsed_sections": [],
      "authorship_tag": "ABX9TyMRFRGX2n9RzJVZgTRGjrKD",
      "include_colab_link": true
    },
    "kernelspec": {
      "name": "python3",
      "display_name": "Python 3"
    },
    "language_info": {
      "name": "python"
    }
  },
  "cells": [
    {
      "cell_type": "markdown",
      "metadata": {
        "id": "view-in-github",
        "colab_type": "text"
      },
      "source": [
        "<a href=\"https://colab.research.google.com/github/Mohsen662/AndrewNg-Ex01/blob/master/01_neural_network_regression_with_tensorflow.ipynb\" target=\"_parent\"><img src=\"https://colab.research.google.com/assets/colab-badge.svg\" alt=\"Open In Colab\"/></a>"
      ]
    },
    {
      "cell_type": "markdown",
      "metadata": {
        "id": "1p4d5YefRjb9"
      },
      "source": [
        "# Introduction regression NN in TF"
      ]
    },
    {
      "cell_type": "code",
      "metadata": {
        "colab": {
          "base_uri": "https://localhost:8080/",
          "height": 35
        },
        "id": "PvfA0rbSSQlh",
        "outputId": "e79cf67c-55ee-424a-b77d-c29adf5d4819"
      },
      "source": [
        "# import tensorflow\n",
        "import tensorflow as tf\n",
        "tf.__version__"
      ],
      "execution_count": 2,
      "outputs": [
        {
          "output_type": "execute_result",
          "data": {
            "application/vnd.google.colaboratory.intrinsic+json": {
              "type": "string"
            },
            "text/plain": [
              "'2.6.0'"
            ]
          },
          "metadata": {},
          "execution_count": 2
        }
      ]
    },
    {
      "cell_type": "markdown",
      "metadata": {
        "id": "YQjANB9QSiNO"
      },
      "source": [
        "## Create data to view and fit"
      ]
    },
    {
      "cell_type": "code",
      "metadata": {
        "colab": {
          "base_uri": "https://localhost:8080/",
          "height": 286
        },
        "id": "U7-SzMnISr4s",
        "outputId": "98b39c3a-b0bf-4227-9bc3-088a925be6e3"
      },
      "source": [
        "import numpy as np\n",
        "import matplotlib.pyplot as plt\n",
        "\n",
        "# Create features\n",
        "X = np.array([-7., -4, -1., 2., 5., 8., 11., 14.])\n",
        "y = np.array([3., 6., 9., 12., 15., 18., 21., 24.])\n",
        "\n",
        "# Visualize\n",
        "plt.scatter(X, y)"
      ],
      "execution_count": null,
      "outputs": [
        {
          "output_type": "execute_result",
          "data": {
            "text/plain": [
              "<matplotlib.collections.PathCollection at 0x7f213a553710>"
            ]
          },
          "metadata": {},
          "execution_count": 3
        },
        {
          "output_type": "display_data",
          "data": {
            "image/png": "[encoded data removed]",
            "text/plain": [
              "<Figure size 432x288 with 1 Axes>"
            ]
          },
          "metadata": {
            "needs_background": "light"
          }
        }
      ]
    },
    {
      "cell_type": "markdown",
      "metadata": {
        "id": "jBICnnjmTUHH"
      },
      "source": [
        "# Input and output shape"
      ]
    },
    {
      "cell_type": "code",
      "metadata": {
        "colab": {
          "base_uri": "https://localhost:8080/"
        },
        "id": "c7BnF2qOUE39",
        "outputId": "f058bbf2-5fcc-4235-8fe2-c097a5169800"
      },
      "source": [
        "# Create demo tensor for housing price prediction problem\n",
        "house_info = tf.constant([\"bedroom\", \"bathroom\", \"garage\"])\n",
        "house_price = tf.constant([939700])\n",
        "house_info, house_price"
      ],
      "execution_count": null,
      "outputs": [
        {
          "output_type": "execute_result",
          "data": {
            "text/plain": [
              "(<tf.Tensor: shape=(3,), dtype=string, numpy=array([b'bedroom', b'bathroom', b'garage'], dtype=object)>,\n",
              " <tf.Tensor: shape=(1,), dtype=int32, numpy=array([939700], dtype=int32)>)"
            ]
          },
          "metadata": {},
          "execution_count": 4
        }
      ]
    },
    {
      "cell_type": "code",
      "metadata": {
        "colab": {
          "base_uri": "https://localhost:8080/"
        },
        "id": "I9UeQ_WFUwBp",
        "outputId": "e2caeaf1-846b-476f-8694-d19cd5008198"
      },
      "source": [
        "# Turn numpy array to tensors\n",
        "X = tf.constant(X)\n",
        "y = tf.constant(y)\n",
        "X, y"
      ],
      "execution_count": null,
      "outputs": [
        {
          "output_type": "execute_result",
          "data": {
            "text/plain": [
              "(<tf.Tensor: shape=(8,), dtype=float64, numpy=array([-7., -4., -1.,  2.,  5.,  8., 11., 14.])>,\n",
              " <tf.Tensor: shape=(8,), dtype=float64, numpy=array([ 3.,  6.,  9., 12., 15., 18., 21., 24.])>)"
            ]
          },
          "metadata": {},
          "execution_count": 5
        }
      ]
    },
    {
      "cell_type": "markdown",
      "metadata": {
        "id": "kRAKJ6RmWAiw"
      },
      "source": [
        "## Steps in modeling with tensorflow\n",
        "1. **Creating the model** - define the input and output layers. as well as the hiddein layers of the deep learning model.\n",
        "2. **Compiling the model** - define the loss function and the optimazer and evaluation metrices\n",
        "3. **Fitting the model** - letting the model try to find the patterns between X & y (features and labels)"
      ]
    },
    {
      "cell_type": "code",
      "metadata": {
        "id": "4MuMgILuX21m"
      },
      "source": [
        "# Set the random seed\n",
        "tf.random.set_seed(42)"
      ],
      "execution_count": null,
      "outputs": []
    },
    {
      "cell_type": "code",
      "metadata": {
        "colab": {
          "base_uri": "https://localhost:8080/"
        },
        "id": "fF9vttYtYAeO",
        "outputId": "bfaea6f1-e567-49d6-cb44-440fa12d35fe"
      },
      "source": [
        "# 1. Creating a model with Sequential API\n",
        "model = tf.keras.Sequential([tf.keras.layers.Dense(1)])\n",
        "\n",
        "# 2. Compile the  model\n",
        "model.compile(loss=tf.keras.losses.mae, optimizer=tf.keras.optimizers.SGD(), metrics=[\"mae\"])\n",
        "\n",
        "# 3. Fit the model\n",
        "model.fit(X, y, epochs=5)"
      ],
      "execution_count": null,
      "outputs": [
        {
          "output_type": "stream",
          "name": "stdout",
          "text": [
            "Epoch 1/5\n",
            "1/1 [==============================] - 1s 624ms/step - loss: 11.5048 - mae: 11.5048\n",
            "Epoch 2/5\n",
            "1/1 [==============================] - 0s 5ms/step - loss: 11.3723 - mae: 11.3723\n",
            "Epoch 3/5\n",
            "1/1 [==============================] - 0s 8ms/step - loss: 11.2398 - mae: 11.2398\n",
            "Epoch 4/5\n",
            "1/1 [==============================] - 0s 11ms/step - loss: 11.1073 - mae: 11.1073\n",
            "Epoch 5/5\n",
            "1/1 [==============================] - 0s 8ms/step - loss: 10.9748 - mae: 10.9748\n"
          ]
        },
        {
          "output_type": "execute_result",
          "data": {
            "text/plain": [
              "<keras.callbacks.History at 0x7fe174025310>"
            ]
          },
          "metadata": {},
          "execution_count": 7
        }
      ]
    },
    {
      "cell_type": "code",
      "metadata": {
        "colab": {
          "base_uri": "https://localhost:8080/"
        },
        "id": "k3Zt96Dda1py",
        "outputId": "b7f3c72c-3e94-4693-f6bf-47a7559f7aa0"
      },
      "source": [
        "# Check X and y\n",
        "X, y"
      ],
      "execution_count": null,
      "outputs": [
        {
          "output_type": "execute_result",
          "data": {
            "text/plain": [
              "(<tf.Tensor: shape=(8,), dtype=float64, numpy=array([-7., -4., -1.,  2.,  5.,  8., 11., 14.])>,\n",
              " <tf.Tensor: shape=(8,), dtype=float64, numpy=array([ 3.,  6.,  9., 12., 15., 18., 21., 24.])>)"
            ]
          },
          "metadata": {},
          "execution_count": 8
        }
      ]
    },
    {
      "cell_type": "code",
      "metadata": {
        "colab": {
          "base_uri": "https://localhost:8080/"
        },
        "id": "psYJQG1Kb4DX",
        "outputId": "42e0fc45-8929-4fd6-f01e-d6dcbb89a9bc"
      },
      "source": [
        "# Try and make prediction using our model\n",
        "y_pred = model.predict([17.])\n",
        "y_pred"
      ],
      "execution_count": null,
      "outputs": [
        {
          "output_type": "execute_result",
          "data": {
            "text/plain": [
              "array([[12.716021]], dtype=float32)"
            ]
          },
          "metadata": {},
          "execution_count": 9
        }
      ]
    },
    {
      "cell_type": "markdown",
      "metadata": {
        "id": "C_5H7-ZLcNDs"
      },
      "source": [
        "## Improving our model\n",
        "\n",
        "We can impprove our model, by altering the steps we took to create a model.\n",
        "\n",
        "1. **Creating a model** - here we might add more layers. Increase the number of hidden units (also called neurons) within each of the hidden layers, change the activation funnction of each layer\n",
        "\n",
        "2. **Compiling a model** - here we might change the optimization function or perhabs the **learning rate** of the optimization function.\n",
        "\n",
        "3. **Fitting a model** - here e might fit a model for more **epochs** (leave it training for longer) or on more data (give the model more examples to learn from).\n"
      ]
    },
    {
      "cell_type": "code",
      "metadata": {
        "colab": {
          "base_uri": "https://localhost:8080/"
        },
        "id": "2EUOAkREghRT",
        "outputId": "f797138f-ddb9-4ed9-b043-ce7908bb2d36"
      },
      "source": [
        "# Let's rebuild our model\n",
        "\n",
        "# 1. Create the model:\n",
        "model = tf.keras.Sequential([tf.keras.layers.Dense(1)])\n",
        "\n",
        "# 2. Compile the model\n",
        "model.compile(loss=tf.keras.losses.mae, optimizer=tf.keras.optimizers.SGD(), metrics=[\"mae\"])\n",
        "\n",
        "# 3. Fit the model (this time we will train more longer)\n",
        "model.fit(X, y, epochs=100)"
      ],
      "execution_count": null,
      "outputs": [
        {
          "output_type": "stream",
          "name": "stdout",
          "text": [
            "Epoch 1/100\n",
            "1/1 [==============================] - 0s 288ms/step - loss: 11.2219 - mae: 11.2219\n",
            "Epoch 2/100\n",
            "1/1 [==============================] - 0s 7ms/step - loss: 11.0894 - mae: 11.0894\n",
            "Epoch 3/100\n",
            "1/1 [==============================] - 0s 7ms/step - loss: 10.9569 - mae: 10.9569\n",
            "Epoch 4/100\n",
            "1/1 [==============================] - 0s 7ms/step - loss: 10.8244 - mae: 10.8244\n",
            "Epoch 5/100\n",
            "1/1 [==============================] - 0s 7ms/step - loss: 10.6919 - mae: 10.6919\n",
            "Epoch 6/100\n",
            "1/1 [==============================] - 0s 5ms/step - loss: 10.5594 - mae: 10.5594\n",
            "Epoch 7/100\n",
            "1/1 [==============================] - 0s 7ms/step - loss: 10.4269 - mae: 10.4269\n",
            "Epoch 8/100\n",
            "1/1 [==============================] - 0s 6ms/step - loss: 10.2944 - mae: 10.2944\n",
            "Epoch 9/100\n",
            "1/1 [==============================] - 0s 6ms/step - loss: 10.1619 - mae: 10.1619\n",
            "Epoch 10/100\n",
            "1/1 [==============================] - 0s 5ms/step - loss: 10.0294 - mae: 10.0294\n",
            "Epoch 11/100\n",
            "1/1 [==============================] - 0s 5ms/step - loss: 9.8969 - mae: 9.8969\n",
            "Epoch 12/100\n",
            "1/1 [==============================] - 0s 6ms/step - loss: 9.7644 - mae: 9.7644\n",
            "Epoch 13/100\n",
            "1/1 [==============================] - 0s 4ms/step - loss: 9.6319 - mae: 9.6319\n",
            "Epoch 14/100\n",
            "1/1 [==============================] - 0s 5ms/step - loss: 9.4994 - mae: 9.4994\n",
            "Epoch 15/100\n",
            "1/1 [==============================] - 0s 6ms/step - loss: 9.3669 - mae: 9.3669\n",
            "Epoch 16/100\n",
            "1/1 [==============================] - 0s 6ms/step - loss: 9.2344 - mae: 9.2344\n",
            "Epoch 17/100\n",
            "1/1 [==============================] - 0s 6ms/step - loss: 9.1019 - mae: 9.1019\n",
            "Epoch 18/100\n",
            "1/1 [==============================] - 0s 4ms/step - loss: 8.9694 - mae: 8.9694\n",
            "Epoch 19/100\n",
            "1/1 [==============================] - 0s 7ms/step - loss: 8.8369 - mae: 8.8369\n",
            "Epoch 20/100\n",
            "1/1 [==============================] - 0s 6ms/step - loss: 8.7044 - mae: 8.7044\n",
            "Epoch 21/100\n",
            "1/1 [==============================] - 0s 5ms/step - loss: 8.5719 - mae: 8.5719\n",
            "Epoch 22/100\n",
            "1/1 [==============================] - 0s 6ms/step - loss: 8.4394 - mae: 8.4394\n",
            "Epoch 23/100\n",
            "1/1 [==============================] - 0s 5ms/step - loss: 8.3069 - mae: 8.3069\n",
            "Epoch 24/100\n",
            "1/1 [==============================] - 0s 6ms/step - loss: 8.1744 - mae: 8.1744\n",
            "Epoch 25/100\n",
            "1/1 [==============================] - 0s 6ms/step - loss: 8.0419 - mae: 8.0419\n",
            "Epoch 26/100\n",
            "1/1 [==============================] - 0s 7ms/step - loss: 7.9094 - mae: 7.9094\n",
            "Epoch 27/100\n",
            "1/1 [==============================] - 0s 7ms/step - loss: 7.7769 - mae: 7.7769\n",
            "Epoch 28/100\n",
            "1/1 [==============================] - 0s 8ms/step - loss: 7.6444 - mae: 7.6444\n",
            "Epoch 29/100\n",
            "1/1 [==============================] - 0s 7ms/step - loss: 7.5119 - mae: 7.5119\n",
            "Epoch 30/100\n",
            "1/1 [==============================] - 0s 8ms/step - loss: 7.3794 - mae: 7.3794\n",
            "Epoch 31/100\n",
            "1/1 [==============================] - 0s 5ms/step - loss: 7.2750 - mae: 7.2750\n",
            "Epoch 32/100\n",
            "1/1 [==============================] - 0s 6ms/step - loss: 7.2694 - mae: 7.2694\n",
            "Epoch 33/100\n",
            "1/1 [==============================] - 0s 6ms/step - loss: 7.2638 - mae: 7.2638\n",
            "Epoch 34/100\n",
            "1/1 [==============================] - 0s 4ms/step - loss: 7.2581 - mae: 7.2581\n",
            "Epoch 35/100\n",
            "1/1 [==============================] - 0s 6ms/step - loss: 7.2525 - mae: 7.2525\n",
            "Epoch 36/100\n",
            "1/1 [==============================] - 0s 5ms/step - loss: 7.2469 - mae: 7.2469\n",
            "Epoch 37/100\n",
            "1/1 [==============================] - 0s 7ms/step - loss: 7.2412 - mae: 7.2412\n",
            "Epoch 38/100\n",
            "1/1 [==============================] - 0s 7ms/step - loss: 7.2356 - mae: 7.2356\n",
            "Epoch 39/100\n",
            "1/1 [==============================] - 0s 6ms/step - loss: 7.2300 - mae: 7.2300\n",
            "Epoch 40/100\n",
            "1/1 [==============================] - 0s 8ms/step - loss: 7.2244 - mae: 7.2244\n",
            "Epoch 41/100\n",
            "1/1 [==============================] - 0s 8ms/step - loss: 7.2188 - mae: 7.2188\n",
            "Epoch 42/100\n",
            "1/1 [==============================] - 0s 6ms/step - loss: 7.2131 - mae: 7.2131\n",
            "Epoch 43/100\n",
            "1/1 [==============================] - 0s 7ms/step - loss: 7.2075 - mae: 7.2075\n",
            "Epoch 44/100\n",
            "1/1 [==============================] - 0s 5ms/step - loss: 7.2019 - mae: 7.2019\n",
            "Epoch 45/100\n",
            "1/1 [==============================] - 0s 10ms/step - loss: 7.1962 - mae: 7.1962\n",
            "Epoch 46/100\n",
            "1/1 [==============================] - 0s 7ms/step - loss: 7.1906 - mae: 7.1906\n",
            "Epoch 47/100\n",
            "1/1 [==============================] - 0s 10ms/step - loss: 7.1850 - mae: 7.1850\n",
            "Epoch 48/100\n",
            "1/1 [==============================] - 0s 7ms/step - loss: 7.1794 - mae: 7.1794\n",
            "Epoch 49/100\n",
            "1/1 [==============================] - 0s 9ms/step - loss: 7.1737 - mae: 7.1737\n",
            "Epoch 50/100\n",
            "1/1 [==============================] - 0s 6ms/step - loss: 7.1681 - mae: 7.1681\n",
            "Epoch 51/100\n",
            "1/1 [==============================] - 0s 7ms/step - loss: 7.1625 - mae: 7.1625\n",
            "Epoch 52/100\n",
            "1/1 [==============================] - 0s 4ms/step - loss: 7.1569 - mae: 7.1569\n",
            "Epoch 53/100\n",
            "1/1 [==============================] - 0s 7ms/step - loss: 7.1512 - mae: 7.1512\n",
            "Epoch 54/100\n",
            "1/1 [==============================] - 0s 5ms/step - loss: 7.1456 - mae: 7.1456\n",
            "Epoch 55/100\n",
            "1/1 [==============================] - 0s 7ms/step - loss: 7.1400 - mae: 7.1400\n",
            "Epoch 56/100\n",
            "1/1 [==============================] - 0s 6ms/step - loss: 7.1344 - mae: 7.1344\n",
            "Epoch 57/100\n",
            "1/1 [==============================] - 0s 7ms/step - loss: 7.1287 - mae: 7.1287\n",
            "Epoch 58/100\n",
            "1/1 [==============================] - 0s 6ms/step - loss: 7.1231 - mae: 7.1231\n",
            "Epoch 59/100\n",
            "1/1 [==============================] - 0s 7ms/step - loss: 7.1175 - mae: 7.1175\n",
            "Epoch 60/100\n",
            "1/1 [==============================] - 0s 6ms/step - loss: 7.1119 - mae: 7.1119\n",
            "Epoch 61/100\n",
            "1/1 [==============================] - 0s 7ms/step - loss: 7.1062 - mae: 7.1062\n",
            "Epoch 62/100\n",
            "1/1 [==============================] - 0s 12ms/step - loss: 7.1006 - mae: 7.1006\n",
            "Epoch 63/100\n",
            "1/1 [==============================] - 0s 5ms/step - loss: 7.0950 - mae: 7.0950\n",
            "Epoch 64/100\n",
            "1/1 [==============================] - 0s 7ms/step - loss: 7.0894 - mae: 7.0894\n",
            "Epoch 65/100\n",
            "1/1 [==============================] - 0s 6ms/step - loss: 7.0838 - mae: 7.0838\n",
            "Epoch 66/100\n",
            "1/1 [==============================] - 0s 7ms/step - loss: 7.0781 - mae: 7.0781\n",
            "Epoch 67/100\n",
            "1/1 [==============================] - 0s 7ms/step - loss: 7.0725 - mae: 7.0725\n",
            "Epoch 68/100\n",
            "1/1 [==============================] - 0s 6ms/step - loss: 7.0669 - mae: 7.0669\n",
            "Epoch 69/100\n",
            "1/1 [==============================] - 0s 8ms/step - loss: 7.0613 - mae: 7.0613\n",
            "Epoch 70/100\n",
            "1/1 [==============================] - 0s 8ms/step - loss: 7.0556 - mae: 7.0556\n",
            "Epoch 71/100\n",
            "1/1 [==============================] - 0s 6ms/step - loss: 7.0500 - mae: 7.0500\n",
            "Epoch 72/100\n",
            "1/1 [==============================] - 0s 5ms/step - loss: 7.0444 - mae: 7.0444\n",
            "Epoch 73/100\n",
            "1/1 [==============================] - 0s 6ms/step - loss: 7.0388 - mae: 7.0388\n",
            "Epoch 74/100\n",
            "1/1 [==============================] - 0s 6ms/step - loss: 7.0331 - mae: 7.0331\n",
            "Epoch 75/100\n",
            "1/1 [==============================] - 0s 13ms/step - loss: 7.0275 - mae: 7.0275\n",
            "Epoch 76/100\n",
            "1/1 [==============================] - 0s 17ms/step - loss: 7.0219 - mae: 7.0219\n",
            "Epoch 77/100\n",
            "1/1 [==============================] - 0s 6ms/step - loss: 7.0163 - mae: 7.0163\n",
            "Epoch 78/100\n",
            "1/1 [==============================] - 0s 34ms/step - loss: 7.0106 - mae: 7.0106\n",
            "Epoch 79/100\n",
            "1/1 [==============================] - 0s 12ms/step - loss: 7.0050 - mae: 7.0050\n",
            "Epoch 80/100\n",
            "1/1 [==============================] - 0s 6ms/step - loss: 6.9994 - mae: 6.9994\n",
            "Epoch 81/100\n",
            "1/1 [==============================] - 0s 6ms/step - loss: 6.9938 - mae: 6.9938\n",
            "Epoch 82/100\n",
            "1/1 [==============================] - 0s 5ms/step - loss: 6.9881 - mae: 6.9881\n",
            "Epoch 83/100\n",
            "1/1 [==============================] - 0s 9ms/step - loss: 6.9825 - mae: 6.9825\n",
            "Epoch 84/100\n",
            "1/1 [==============================] - 0s 6ms/step - loss: 6.9769 - mae: 6.9769\n",
            "Epoch 85/100\n",
            "1/1 [==============================] - 0s 7ms/step - loss: 6.9713 - mae: 6.9713\n",
            "Epoch 86/100\n",
            "1/1 [==============================] - 0s 7ms/step - loss: 6.9656 - mae: 6.9656\n",
            "Epoch 87/100\n",
            "1/1 [==============================] - 0s 7ms/step - loss: 6.9600 - mae: 6.9600\n",
            "Epoch 88/100\n",
            "1/1 [==============================] - 0s 8ms/step - loss: 6.9544 - mae: 6.9544\n",
            "Epoch 89/100\n",
            "1/1 [==============================] - 0s 6ms/step - loss: 6.9488 - mae: 6.9488\n",
            "Epoch 90/100\n",
            "1/1 [==============================] - 0s 9ms/step - loss: 6.9431 - mae: 6.9431\n",
            "Epoch 91/100\n",
            "1/1 [==============================] - 0s 5ms/step - loss: 6.9375 - mae: 6.9375\n",
            "Epoch 92/100\n",
            "1/1 [==============================] - 0s 8ms/step - loss: 6.9319 - mae: 6.9319\n",
            "Epoch 93/100\n",
            "1/1 [==============================] - 0s 5ms/step - loss: 6.9263 - mae: 6.9263\n",
            "Epoch 94/100\n",
            "1/1 [==============================] - 0s 6ms/step - loss: 6.9206 - mae: 6.9206\n",
            "Epoch 95/100\n",
            "1/1 [==============================] - 0s 6ms/step - loss: 6.9150 - mae: 6.9150\n",
            "Epoch 96/100\n",
            "1/1 [==============================] - 0s 9ms/step - loss: 6.9094 - mae: 6.9094\n",
            "Epoch 97/100\n",
            "1/1 [==============================] - 0s 5ms/step - loss: 6.9038 - mae: 6.9038\n",
            "Epoch 98/100\n",
            "1/1 [==============================] - 0s 5ms/step - loss: 6.8981 - mae: 6.8981\n",
            "Epoch 99/100\n",
            "1/1 [==============================] - 0s 6ms/step - loss: 6.8925 - mae: 6.8925\n",
            "Epoch 100/100\n",
            "1/1 [==============================] - 0s 6ms/step - loss: 6.8869 - mae: 6.8869\n"
          ]
        },
        {
          "output_type": "execute_result",
          "data": {
            "text/plain": [
              "<keras.callbacks.History at 0x7fe17274e710>"
            ]
          },
          "metadata": {},
          "execution_count": 10
        }
      ]
    },
    {
      "cell_type": "code",
      "metadata": {
        "colab": {
          "base_uri": "https://localhost:8080/"
        },
        "id": "-8j5NATIiZv1",
        "outputId": "b25ac032-5a09-4801-931f-3ef8013c9b63"
      },
      "source": [
        "y_pred = model.predict([17.])\n",
        "y_pred"
      ],
      "execution_count": null,
      "outputs": [
        {
          "output_type": "execute_result",
          "data": {
            "text/plain": [
              "array([[29.739855]], dtype=float32)"
            ]
          },
          "metadata": {},
          "execution_count": 11
        }
      ]
    },
    {
      "cell_type": "code",
      "metadata": {
        "id": "ZzTNyBRIis_Y"
      },
      "source": [
        "model = tf.keras.Sequential([tf.keras.layers.Dense(1)])"
      ],
      "execution_count": null,
      "outputs": []
    },
    {
      "cell_type": "code",
      "metadata": {
        "id": "CcJmIf27VT5o"
      },
      "source": [
        "model.compile(optimizer=tf.keras.optimizers.Adam(learning_rate=0.0001), loss=tf.keras.losses.mae, metrics=['mae'])"
      ],
      "execution_count": null,
      "outputs": []
    },
    {
      "cell_type": "code",
      "metadata": {
        "colab": {
          "base_uri": "https://localhost:8080/"
        },
        "id": "sj-P6p7FVjpw",
        "outputId": "9d264984-8a95-4659-bb2e-474f584b4e83"
      },
      "source": [
        "model.fit(X, y, epochs=100)\n",
        "y_pred = model.predict([17.])\n",
        "y_pred"
      ],
      "execution_count": null,
      "outputs": [
        {
          "output_type": "stream",
          "name": "stdout",
          "text": [
            "Epoch 1/100\n",
            "1/1 [==============================] - 0s 324ms/step - loss: 10.5736 - mae: 10.5736\n",
            "Epoch 2/100\n",
            "1/1 [==============================] - 0s 4ms/step - loss: 10.5731 - mae: 10.5731\n",
            "Epoch 3/100\n",
            "1/1 [==============================] - 0s 20ms/step - loss: 10.5727 - mae: 10.5727\n",
            "Epoch 4/100\n",
            "1/1 [==============================] - 0s 10ms/step - loss: 10.5722 - mae: 10.5722\n",
            "Epoch 5/100\n",
            "1/1 [==============================] - 0s 5ms/step - loss: 10.5718 - mae: 10.5718\n",
            "Epoch 6/100\n",
            "1/1 [==============================] - 0s 9ms/step - loss: 10.5713 - mae: 10.5713\n",
            "Epoch 7/100\n",
            "1/1 [==============================] - 0s 5ms/step - loss: 10.5709 - mae: 10.5709\n",
            "Epoch 8/100\n",
            "1/1 [==============================] - 0s 9ms/step - loss: 10.5704 - mae: 10.5704\n",
            "Epoch 9/100\n",
            "1/1 [==============================] - 0s 6ms/step - loss: 10.5700 - mae: 10.5700\n",
            "Epoch 10/100\n",
            "1/1 [==============================] - 0s 5ms/step - loss: 10.5695 - mae: 10.5695\n",
            "Epoch 11/100\n",
            "1/1 [==============================] - 0s 4ms/step - loss: 10.5691 - mae: 10.5691\n",
            "Epoch 12/100\n",
            "1/1 [==============================] - 0s 4ms/step - loss: 10.5686 - mae: 10.5686\n",
            "Epoch 13/100\n",
            "1/1 [==============================] - 0s 3ms/step - loss: 10.5682 - mae: 10.5682\n",
            "Epoch 14/100\n",
            "1/1 [==============================] - 0s 8ms/step - loss: 10.5677 - mae: 10.5677\n",
            "Epoch 15/100\n",
            "1/1 [==============================] - 0s 4ms/step - loss: 10.5673 - mae: 10.5673\n",
            "Epoch 16/100\n",
            "1/1 [==============================] - 0s 5ms/step - loss: 10.5668 - mae: 10.5668\n",
            "Epoch 17/100\n",
            "1/1 [==============================] - 0s 6ms/step - loss: 10.5664 - mae: 10.5664\n",
            "Epoch 18/100\n",
            "1/1 [==============================] - 0s 4ms/step - loss: 10.5659 - mae: 10.5659\n",
            "Epoch 19/100\n",
            "1/1 [==============================] - 0s 5ms/step - loss: 10.5655 - mae: 10.5655\n",
            "Epoch 20/100\n",
            "1/1 [==============================] - 0s 4ms/step - loss: 10.5650 - mae: 10.5650\n",
            "Epoch 21/100\n",
            "1/1 [==============================] - 0s 6ms/step - loss: 10.5646 - mae: 10.5646\n",
            "Epoch 22/100\n",
            "1/1 [==============================] - 0s 4ms/step - loss: 10.5641 - mae: 10.5641\n",
            "Epoch 23/100\n",
            "1/1 [==============================] - 0s 4ms/step - loss: 10.5637 - mae: 10.5637\n",
            "Epoch 24/100\n",
            "1/1 [==============================] - 0s 5ms/step - loss: 10.5632 - mae: 10.5632\n",
            "Epoch 25/100\n",
            "1/1 [==============================] - 0s 4ms/step - loss: 10.5628 - mae: 10.5628\n",
            "Epoch 26/100\n",
            "1/1 [==============================] - 0s 4ms/step - loss: 10.5623 - mae: 10.5623\n",
            "Epoch 27/100\n",
            "1/1 [==============================] - 0s 5ms/step - loss: 10.5619 - mae: 10.5619\n",
            "Epoch 28/100\n",
            "1/1 [==============================] - 0s 5ms/step - loss: 10.5614 - mae: 10.5614\n",
            "Epoch 29/100\n",
            "1/1 [==============================] - 0s 5ms/step - loss: 10.5610 - mae: 10.5610\n",
            "Epoch 30/100\n",
            "1/1 [==============================] - 0s 4ms/step - loss: 10.5605 - mae: 10.5605\n",
            "Epoch 31/100\n",
            "1/1 [==============================] - 0s 5ms/step - loss: 10.5601 - mae: 10.5601\n",
            "Epoch 32/100\n",
            "1/1 [==============================] - 0s 4ms/step - loss: 10.5596 - mae: 10.5596\n",
            "Epoch 33/100\n",
            "1/1 [==============================] - 0s 4ms/step - loss: 10.5592 - mae: 10.5592\n",
            "Epoch 34/100\n",
            "1/1 [==============================] - 0s 5ms/step - loss: 10.5587 - mae: 10.5587\n",
            "Epoch 35/100\n",
            "1/1 [==============================] - 0s 6ms/step - loss: 10.5583 - mae: 10.5583\n",
            "Epoch 36/100\n",
            "1/1 [==============================] - 0s 5ms/step - loss: 10.5578 - mae: 10.5578\n",
            "Epoch 37/100\n",
            "1/1 [==============================] - 0s 4ms/step - loss: 10.5574 - mae: 10.5574\n",
            "Epoch 38/100\n",
            "1/1 [==============================] - 0s 5ms/step - loss: 10.5569 - mae: 10.5569\n",
            "Epoch 39/100\n",
            "1/1 [==============================] - 0s 5ms/step - loss: 10.5565 - mae: 10.5565\n",
            "Epoch 40/100\n",
            "1/1 [==============================] - 0s 4ms/step - loss: 10.5560 - mae: 10.5560\n",
            "Epoch 41/100\n",
            "1/1 [==============================] - 0s 4ms/step - loss: 10.5556 - mae: 10.5556\n",
            "Epoch 42/100\n",
            "1/1 [==============================] - 0s 8ms/step - loss: 10.5551 - mae: 10.5551\n",
            "Epoch 43/100\n",
            "1/1 [==============================] - 0s 5ms/step - loss: 10.5547 - mae: 10.5547\n",
            "Epoch 44/100\n",
            "1/1 [==============================] - 0s 6ms/step - loss: 10.5542 - mae: 10.5542\n",
            "Epoch 45/100\n",
            "1/1 [==============================] - 0s 5ms/step - loss: 10.5538 - mae: 10.5538\n",
            "Epoch 46/100\n",
            "1/1 [==============================] - 0s 7ms/step - loss: 10.5533 - mae: 10.5533\n",
            "Epoch 47/100\n",
            "1/1 [==============================] - 0s 5ms/step - loss: 10.5529 - mae: 10.5529\n",
            "Epoch 48/100\n",
            "1/1 [==============================] - 0s 4ms/step - loss: 10.5524 - mae: 10.5524\n",
            "Epoch 49/100\n",
            "1/1 [==============================] - 0s 5ms/step - loss: 10.5520 - mae: 10.5520\n",
            "Epoch 50/100\n",
            "1/1 [==============================] - 0s 5ms/step - loss: 10.5515 - mae: 10.5515\n",
            "Epoch 51/100\n",
            "1/1 [==============================] - 0s 5ms/step - loss: 10.5511 - mae: 10.5511\n",
            "Epoch 52/100\n",
            "1/1 [==============================] - 0s 5ms/step - loss: 10.5506 - mae: 10.5506\n",
            "Epoch 53/100\n",
            "1/1 [==============================] - 0s 4ms/step - loss: 10.5502 - mae: 10.5502\n",
            "Epoch 54/100\n",
            "1/1 [==============================] - 0s 5ms/step - loss: 10.5497 - mae: 10.5497\n",
            "Epoch 55/100\n",
            "1/1 [==============================] - 0s 5ms/step - loss: 10.5493 - mae: 10.5493\n",
            "Epoch 56/100\n",
            "1/1 [==============================] - 0s 5ms/step - loss: 10.5488 - mae: 10.5488\n",
            "Epoch 57/100\n",
            "1/1 [==============================] - 0s 4ms/step - loss: 10.5484 - mae: 10.5484\n",
            "Epoch 58/100\n",
            "1/1 [==============================] - 0s 5ms/step - loss: 10.5479 - mae: 10.5479\n",
            "Epoch 59/100\n",
            "1/1 [==============================] - 0s 5ms/step - loss: 10.5475 - mae: 10.5475\n",
            "Epoch 60/100\n",
            "1/1 [==============================] - 0s 5ms/step - loss: 10.5470 - mae: 10.5470\n",
            "Epoch 61/100\n",
            "1/1 [==============================] - 0s 4ms/step - loss: 10.5466 - mae: 10.5466\n",
            "Epoch 62/100\n",
            "1/1 [==============================] - 0s 5ms/step - loss: 10.5461 - mae: 10.5461\n",
            "Epoch 63/100\n",
            "1/1 [==============================] - 0s 5ms/step - loss: 10.5457 - mae: 10.5457\n",
            "Epoch 64/100\n",
            "1/1 [==============================] - 0s 4ms/step - loss: 10.5452 - mae: 10.5452\n",
            "Epoch 65/100\n",
            "1/1 [==============================] - 0s 4ms/step - loss: 10.5448 - mae: 10.5448\n",
            "Epoch 66/100\n",
            "1/1 [==============================] - 0s 10ms/step - loss: 10.5443 - mae: 10.5443\n",
            "Epoch 67/100\n",
            "1/1 [==============================] - 0s 4ms/step - loss: 10.5439 - mae: 10.5439\n",
            "Epoch 68/100\n",
            "1/1 [==============================] - 0s 14ms/step - loss: 10.5434 - mae: 10.5434\n",
            "Epoch 69/100\n",
            "1/1 [==============================] - 0s 11ms/step - loss: 10.5430 - mae: 10.5430\n",
            "Epoch 70/100\n",
            "1/1 [==============================] - 0s 10ms/step - loss: 10.5425 - mae: 10.5425\n",
            "Epoch 71/100\n",
            "1/1 [==============================] - 0s 11ms/step - loss: 10.5421 - mae: 10.5421\n",
            "Epoch 72/100\n",
            "1/1 [==============================] - 0s 14ms/step - loss: 10.5416 - mae: 10.5416\n",
            "Epoch 73/100\n",
            "1/1 [==============================] - 0s 13ms/step - loss: 10.5412 - mae: 10.5412\n",
            "Epoch 74/100\n",
            "1/1 [==============================] - 0s 13ms/step - loss: 10.5407 - mae: 10.5407\n",
            "Epoch 75/100\n",
            "1/1 [==============================] - 0s 14ms/step - loss: 10.5403 - mae: 10.5403\n",
            "Epoch 76/100\n",
            "1/1 [==============================] - 0s 10ms/step - loss: 10.5398 - mae: 10.5398\n",
            "Epoch 77/100\n",
            "1/1 [==============================] - 0s 14ms/step - loss: 10.5394 - mae: 10.5394\n",
            "Epoch 78/100\n",
            "1/1 [==============================] - 0s 6ms/step - loss: 10.5389 - mae: 10.5389\n",
            "Epoch 79/100\n",
            "1/1 [==============================] - 0s 9ms/step - loss: 10.5385 - mae: 10.5385\n",
            "Epoch 80/100\n",
            "1/1 [==============================] - 0s 7ms/step - loss: 10.5380 - mae: 10.5380\n",
            "Epoch 81/100\n",
            "1/1 [==============================] - 0s 6ms/step - loss: 10.5376 - mae: 10.5376\n",
            "Epoch 82/100\n",
            "1/1 [==============================] - 0s 8ms/step - loss: 10.5371 - mae: 10.5371\n",
            "Epoch 83/100\n",
            "1/1 [==============================] - 0s 6ms/step - loss: 10.5367 - mae: 10.5367\n",
            "Epoch 84/100\n",
            "1/1 [==============================] - 0s 8ms/step - loss: 10.5362 - mae: 10.5362\n",
            "Epoch 85/100\n",
            "1/1 [==============================] - 0s 5ms/step - loss: 10.5358 - mae: 10.5358\n",
            "Epoch 86/100\n",
            "1/1 [==============================] - 0s 8ms/step - loss: 10.5353 - mae: 10.5353\n",
            "Epoch 87/100\n",
            "1/1 [==============================] - 0s 6ms/step - loss: 10.5349 - mae: 10.5349\n",
            "Epoch 88/100\n",
            "1/1 [==============================] - 0s 8ms/step - loss: 10.5344 - mae: 10.5344\n",
            "Epoch 89/100\n",
            "1/1 [==============================] - 0s 6ms/step - loss: 10.5340 - mae: 10.5340\n",
            "Epoch 90/100\n",
            "1/1 [==============================] - 0s 8ms/step - loss: 10.5335 - mae: 10.5335\n",
            "Epoch 91/100\n",
            "1/1 [==============================] - 0s 6ms/step - loss: 10.5331 - mae: 10.5331\n",
            "Epoch 92/100\n",
            "1/1 [==============================] - 0s 12ms/step - loss: 10.5326 - mae: 10.5326\n",
            "Epoch 93/100\n",
            "1/1 [==============================] - 0s 5ms/step - loss: 10.5322 - mae: 10.5322\n",
            "Epoch 94/100\n",
            "1/1 [==============================] - 0s 5ms/step - loss: 10.5317 - mae: 10.5317\n",
            "Epoch 95/100\n",
            "1/1 [==============================] - 0s 7ms/step - loss: 10.5313 - mae: 10.5313\n",
            "Epoch 96/100\n",
            "1/1 [==============================] - 0s 5ms/step - loss: 10.5308 - mae: 10.5308\n",
            "Epoch 97/100\n",
            "1/1 [==============================] - 0s 8ms/step - loss: 10.5304 - mae: 10.5304\n",
            "Epoch 98/100\n",
            "1/1 [==============================] - 0s 6ms/step - loss: 10.5299 - mae: 10.5299\n",
            "Epoch 99/100\n",
            "1/1 [==============================] - 0s 7ms/step - loss: 10.5295 - mae: 10.5295\n",
            "Epoch 100/100\n",
            "1/1 [==============================] - 0s 7ms/step - loss: 10.5290 - mae: 10.5290\n"
          ]
        },
        {
          "output_type": "execute_result",
          "data": {
            "text/plain": [
              "array([[14.394114]], dtype=float32)"
            ]
          },
          "metadata": {},
          "execution_count": 14
        }
      ]
    },
    {
      "cell_type": "code",
      "metadata": {
        "colab": {
          "base_uri": "https://localhost:8080/"
        },
        "id": "RiJDvd3GWLSX",
        "outputId": "f1b3955e-2982-41db-e285-102cd527db72"
      },
      "source": [
        "y_pred"
      ],
      "execution_count": null,
      "outputs": [
        {
          "output_type": "execute_result",
          "data": {
            "text/plain": [
              "array([[14.394114]], dtype=float32)"
            ]
          },
          "metadata": {},
          "execution_count": 15
        }
      ]
    },
    {
      "cell_type": "code",
      "metadata": {
        "colab": {
          "base_uri": "https://localhost:8080/"
        },
        "id": "wfqfPUvgWP4b",
        "outputId": "fd7b53d1-61de-4582-9a71-843a7138b653"
      },
      "source": [
        "model = tf.keras.Sequential([tf.keras.layers.Dense(100, activation='relu'), tf.keras.layers.Dense(1)])\n",
        "model.compile(loss=tf.keras.losses.mae, optimizer=tf.keras.optimizers.Adam(learning_rate=0.001), metrics=['mae'])\n",
        "model.fit(X, y, epochs=200)"
      ],
      "execution_count": null,
      "outputs": [
        {
          "output_type": "stream",
          "name": "stdout",
          "text": [
            "Epoch 1/200\n",
            "1/1 [==============================] - 0s 376ms/step - loss: 14.0407 - mae: 14.0407\n",
            "Epoch 2/200\n",
            "1/1 [==============================] - 0s 6ms/step - loss: 13.9553 - mae: 13.9553\n",
            "Epoch 3/200\n",
            "1/1 [==============================] - 0s 8ms/step - loss: 13.8701 - mae: 13.8701\n",
            "Epoch 4/200\n",
            "1/1 [==============================] - 0s 6ms/step - loss: 13.7849 - mae: 13.7849\n",
            "Epoch 5/200\n",
            "1/1 [==============================] - 0s 10ms/step - loss: 13.6997 - mae: 13.6997\n",
            "Epoch 6/200\n",
            "1/1 [==============================] - 0s 6ms/step - loss: 13.6147 - mae: 13.6147\n",
            "Epoch 7/200\n",
            "1/1 [==============================] - 0s 7ms/step - loss: 13.5298 - mae: 13.5298\n",
            "Epoch 8/200\n",
            "1/1 [==============================] - 0s 15ms/step - loss: 13.4451 - mae: 13.4451\n",
            "Epoch 9/200\n",
            "1/1 [==============================] - 0s 5ms/step - loss: 13.3605 - mae: 13.3605\n",
            "Epoch 10/200\n",
            "1/1 [==============================] - 0s 7ms/step - loss: 13.2761 - mae: 13.2761\n",
            "Epoch 11/200\n",
            "1/1 [==============================] - 0s 7ms/step - loss: 13.1915 - mae: 13.1915\n",
            "Epoch 12/200\n",
            "1/1 [==============================] - 0s 5ms/step - loss: 13.1068 - mae: 13.1068\n",
            "Epoch 13/200\n",
            "1/1 [==============================] - 0s 11ms/step - loss: 13.0223 - mae: 13.0223\n",
            "Epoch 14/200\n",
            "1/1 [==============================] - 0s 7ms/step - loss: 12.9378 - mae: 12.9378\n",
            "Epoch 15/200\n",
            "1/1 [==============================] - 0s 14ms/step - loss: 12.8533 - mae: 12.8533\n",
            "Epoch 16/200\n",
            "1/1 [==============================] - 0s 5ms/step - loss: 12.7688 - mae: 12.7688\n",
            "Epoch 17/200\n",
            "1/1 [==============================] - 0s 8ms/step - loss: 12.6843 - mae: 12.6843\n",
            "Epoch 18/200\n",
            "1/1 [==============================] - 0s 9ms/step - loss: 12.5998 - mae: 12.5998\n",
            "Epoch 19/200\n",
            "1/1 [==============================] - 0s 7ms/step - loss: 12.5152 - mae: 12.5152\n",
            "Epoch 20/200\n",
            "1/1 [==============================] - 0s 7ms/step - loss: 12.4305 - mae: 12.4305\n",
            "Epoch 21/200\n",
            "1/1 [==============================] - 0s 9ms/step - loss: 12.3459 - mae: 12.3459\n",
            "Epoch 22/200\n",
            "1/1 [==============================] - 0s 15ms/step - loss: 12.2612 - mae: 12.2612\n",
            "Epoch 23/200\n",
            "1/1 [==============================] - 0s 8ms/step - loss: 12.1766 - mae: 12.1766\n",
            "Epoch 24/200\n",
            "1/1 [==============================] - 0s 9ms/step - loss: 12.0919 - mae: 12.0919\n",
            "Epoch 25/200\n",
            "1/1 [==============================] - 0s 11ms/step - loss: 12.0071 - mae: 12.0071\n",
            "Epoch 26/200\n",
            "1/1 [==============================] - 0s 12ms/step - loss: 11.9223 - mae: 11.9223\n",
            "Epoch 27/200\n",
            "1/1 [==============================] - 0s 14ms/step - loss: 11.8373 - mae: 11.8373\n",
            "Epoch 28/200\n",
            "1/1 [==============================] - 0s 5ms/step - loss: 11.7522 - mae: 11.7522\n",
            "Epoch 29/200\n",
            "1/1 [==============================] - 0s 11ms/step - loss: 11.6669 - mae: 11.6669\n",
            "Epoch 30/200\n",
            "1/1 [==============================] - 0s 9ms/step - loss: 11.5815 - mae: 11.5815\n",
            "Epoch 31/200\n",
            "1/1 [==============================] - 0s 6ms/step - loss: 11.4960 - mae: 11.4960\n",
            "Epoch 32/200\n",
            "1/1 [==============================] - 0s 7ms/step - loss: 11.4104 - mae: 11.4104\n",
            "Epoch 33/200\n",
            "1/1 [==============================] - 0s 6ms/step - loss: 11.3246 - mae: 11.3246\n",
            "Epoch 34/200\n",
            "1/1 [==============================] - 0s 9ms/step - loss: 11.2386 - mae: 11.2386\n",
            "Epoch 35/200\n",
            "1/1 [==============================] - 0s 6ms/step - loss: 11.1526 - mae: 11.1526\n",
            "Epoch 36/200\n",
            "1/1 [==============================] - 0s 6ms/step - loss: 11.0666 - mae: 11.0666\n",
            "Epoch 37/200\n",
            "1/1 [==============================] - 0s 6ms/step - loss: 10.9804 - mae: 10.9804\n",
            "Epoch 38/200\n",
            "1/1 [==============================] - 0s 6ms/step - loss: 10.8940 - mae: 10.8940\n",
            "Epoch 39/200\n",
            "1/1 [==============================] - 0s 6ms/step - loss: 10.8073 - mae: 10.8073\n",
            "Epoch 40/200\n",
            "1/1 [==============================] - 0s 7ms/step - loss: 10.7203 - mae: 10.7203\n",
            "Epoch 41/200\n",
            "1/1 [==============================] - 0s 7ms/step - loss: 10.6331 - mae: 10.6331\n",
            "Epoch 42/200\n",
            "1/1 [==============================] - 0s 6ms/step - loss: 10.5457 - mae: 10.5457\n",
            "Epoch 43/200\n",
            "1/1 [==============================] - 0s 7ms/step - loss: 10.4749 - mae: 10.4749\n",
            "Epoch 44/200\n",
            "1/1 [==============================] - 0s 7ms/step - loss: 10.4084 - mae: 10.4084\n",
            "Epoch 45/200\n",
            "1/1 [==============================] - 0s 6ms/step - loss: 10.3413 - mae: 10.3413\n",
            "Epoch 46/200\n",
            "1/1 [==============================] - 0s 6ms/step - loss: 10.2739 - mae: 10.2739\n",
            "Epoch 47/200\n",
            "1/1 [==============================] - 0s 7ms/step - loss: 10.2061 - mae: 10.2061\n",
            "Epoch 48/200\n",
            "1/1 [==============================] - 0s 6ms/step - loss: 10.1379 - mae: 10.1379\n",
            "Epoch 49/200\n",
            "1/1 [==============================] - 0s 6ms/step - loss: 10.0693 - mae: 10.0693\n",
            "Epoch 50/200\n",
            "1/1 [==============================] - 0s 7ms/step - loss: 10.0004 - mae: 10.0004\n",
            "Epoch 51/200\n",
            "1/1 [==============================] - 0s 6ms/step - loss: 9.9312 - mae: 9.9312\n",
            "Epoch 52/200\n",
            "1/1 [==============================] - 0s 6ms/step - loss: 9.8618 - mae: 9.8618\n",
            "Epoch 53/200\n",
            "1/1 [==============================] - 0s 5ms/step - loss: 9.7921 - mae: 9.7921\n",
            "Epoch 54/200\n",
            "1/1 [==============================] - 0s 5ms/step - loss: 9.7222 - mae: 9.7222\n",
            "Epoch 55/200\n",
            "1/1 [==============================] - 0s 5ms/step - loss: 9.6519 - mae: 9.6519\n",
            "Epoch 56/200\n",
            "1/1 [==============================] - 0s 6ms/step - loss: 9.5814 - mae: 9.5814\n",
            "Epoch 57/200\n",
            "1/1 [==============================] - 0s 9ms/step - loss: 9.5107 - mae: 9.5107\n",
            "Epoch 58/200\n",
            "1/1 [==============================] - 0s 25ms/step - loss: 9.4399 - mae: 9.4399\n",
            "Epoch 59/200\n",
            "1/1 [==============================] - 0s 10ms/step - loss: 9.3687 - mae: 9.3687\n",
            "Epoch 60/200\n",
            "1/1 [==============================] - 0s 8ms/step - loss: 9.2973 - mae: 9.2973\n",
            "Epoch 61/200\n",
            "1/1 [==============================] - 0s 13ms/step - loss: 9.2254 - mae: 9.2254\n",
            "Epoch 62/200\n",
            "1/1 [==============================] - 0s 6ms/step - loss: 9.1531 - mae: 9.1531\n",
            "Epoch 63/200\n",
            "1/1 [==============================] - 0s 10ms/step - loss: 9.0805 - mae: 9.0805\n",
            "Epoch 64/200\n",
            "1/1 [==============================] - 0s 8ms/step - loss: 9.0075 - mae: 9.0075\n",
            "Epoch 65/200\n",
            "1/1 [==============================] - 0s 8ms/step - loss: 8.9341 - mae: 8.9341\n",
            "Epoch 66/200\n",
            "1/1 [==============================] - 0s 8ms/step - loss: 8.8604 - mae: 8.8604\n",
            "Epoch 67/200\n",
            "1/1 [==============================] - 0s 6ms/step - loss: 8.7863 - mae: 8.7863\n",
            "Epoch 68/200\n",
            "1/1 [==============================] - 0s 8ms/step - loss: 8.7118 - mae: 8.7118\n",
            "Epoch 69/200\n",
            "1/1 [==============================] - 0s 8ms/step - loss: 8.6368 - mae: 8.6368\n",
            "Epoch 70/200\n",
            "1/1 [==============================] - 0s 8ms/step - loss: 8.5615 - mae: 8.5615\n",
            "Epoch 71/200\n",
            "1/1 [==============================] - 0s 6ms/step - loss: 8.4858 - mae: 8.4858\n",
            "Epoch 72/200\n",
            "1/1 [==============================] - 0s 8ms/step - loss: 8.4097 - mae: 8.4097\n",
            "Epoch 73/200\n",
            "1/1 [==============================] - 0s 7ms/step - loss: 8.3333 - mae: 8.3333\n",
            "Epoch 74/200\n",
            "1/1 [==============================] - 0s 5ms/step - loss: 8.2564 - mae: 8.2564\n",
            "Epoch 75/200\n",
            "1/1 [==============================] - 0s 8ms/step - loss: 8.1791 - mae: 8.1791\n",
            "Epoch 76/200\n",
            "1/1 [==============================] - 0s 7ms/step - loss: 8.1014 - mae: 8.1014\n",
            "Epoch 77/200\n",
            "1/1 [==============================] - 0s 5ms/step - loss: 8.0233 - mae: 8.0233\n",
            "Epoch 78/200\n",
            "1/1 [==============================] - 0s 7ms/step - loss: 7.9448 - mae: 7.9448\n",
            "Epoch 79/200\n",
            "1/1 [==============================] - 0s 8ms/step - loss: 7.8658 - mae: 7.8658\n",
            "Epoch 80/200\n",
            "1/1 [==============================] - 0s 5ms/step - loss: 7.7865 - mae: 7.7865\n",
            "Epoch 81/200\n",
            "1/1 [==============================] - 0s 8ms/step - loss: 7.7067 - mae: 7.7067\n",
            "Epoch 82/200\n",
            "1/1 [==============================] - 0s 8ms/step - loss: 7.6265 - mae: 7.6265\n",
            "Epoch 83/200\n",
            "1/1 [==============================] - 0s 9ms/step - loss: 7.5459 - mae: 7.5459\n",
            "Epoch 84/200\n",
            "1/1 [==============================] - 0s 10ms/step - loss: 7.4648 - mae: 7.4648\n",
            "Epoch 85/200\n",
            "1/1 [==============================] - 0s 14ms/step - loss: 7.3832 - mae: 7.3832\n",
            "Epoch 86/200\n",
            "1/1 [==============================] - 0s 9ms/step - loss: 7.3013 - mae: 7.3013\n",
            "Epoch 87/200\n",
            "1/1 [==============================] - 0s 12ms/step - loss: 7.2189 - mae: 7.2189\n",
            "Epoch 88/200\n",
            "1/1 [==============================] - 0s 10ms/step - loss: 7.1361 - mae: 7.1361\n",
            "Epoch 89/200\n",
            "1/1 [==============================] - 0s 8ms/step - loss: 7.0528 - mae: 7.0528\n",
            "Epoch 90/200\n",
            "1/1 [==============================] - 0s 8ms/step - loss: 6.9691 - mae: 6.9691\n",
            "Epoch 91/200\n",
            "1/1 [==============================] - 0s 6ms/step - loss: 6.8849 - mae: 6.8849\n",
            "Epoch 92/200\n",
            "1/1 [==============================] - 0s 9ms/step - loss: 6.8004 - mae: 6.8004\n",
            "Epoch 93/200\n",
            "1/1 [==============================] - 0s 21ms/step - loss: 6.7153 - mae: 6.7153\n",
            "Epoch 94/200\n",
            "1/1 [==============================] - 0s 14ms/step - loss: 6.6297 - mae: 6.6297\n",
            "Epoch 95/200\n",
            "1/1 [==============================] - 0s 9ms/step - loss: 6.5435 - mae: 6.5435\n",
            "Epoch 96/200\n",
            "1/1 [==============================] - 0s 11ms/step - loss: 6.4568 - mae: 6.4568\n",
            "Epoch 97/200\n",
            "1/1 [==============================] - 0s 13ms/step - loss: 6.3696 - mae: 6.3696\n",
            "Epoch 98/200\n",
            "1/1 [==============================] - 0s 5ms/step - loss: 6.2818 - mae: 6.2818\n",
            "Epoch 99/200\n",
            "1/1 [==============================] - 0s 11ms/step - loss: 6.1935 - mae: 6.1935\n",
            "Epoch 100/200\n",
            "1/1 [==============================] - 0s 7ms/step - loss: 6.1046 - mae: 6.1046\n",
            "Epoch 101/200\n",
            "1/1 [==============================] - 0s 5ms/step - loss: 6.0151 - mae: 6.0151\n",
            "Epoch 102/200\n",
            "1/1 [==============================] - 0s 5ms/step - loss: 5.9250 - mae: 5.9250\n",
            "Epoch 103/200\n",
            "1/1 [==============================] - 0s 17ms/step - loss: 5.8343 - mae: 5.8343\n",
            "Epoch 104/200\n",
            "1/1 [==============================] - 0s 13ms/step - loss: 5.7430 - mae: 5.7430\n",
            "Epoch 105/200\n",
            "1/1 [==============================] - 0s 6ms/step - loss: 5.6512 - mae: 5.6512\n",
            "Epoch 106/200\n",
            "1/1 [==============================] - 0s 7ms/step - loss: 5.5587 - mae: 5.5587\n",
            "Epoch 107/200\n",
            "1/1 [==============================] - 0s 9ms/step - loss: 5.4656 - mae: 5.4656\n",
            "Epoch 108/200\n",
            "1/1 [==============================] - 0s 7ms/step - loss: 5.3719 - mae: 5.3719\n",
            "Epoch 109/200\n",
            "1/1 [==============================] - 0s 7ms/step - loss: 5.2777 - mae: 5.2777\n",
            "Epoch 110/200\n",
            "1/1 [==============================] - 0s 9ms/step - loss: 5.1828 - mae: 5.1828\n",
            "Epoch 111/200\n",
            "1/1 [==============================] - 0s 9ms/step - loss: 5.0873 - mae: 5.0873\n",
            "Epoch 112/200\n",
            "1/1 [==============================] - 0s 6ms/step - loss: 4.9911 - mae: 4.9911\n",
            "Epoch 113/200\n",
            "1/1 [==============================] - 0s 8ms/step - loss: 4.8943 - mae: 4.8943\n",
            "Epoch 114/200\n",
            "1/1 [==============================] - 0s 7ms/step - loss: 4.7982 - mae: 4.7982\n",
            "Epoch 115/200\n",
            "1/1 [==============================] - 0s 12ms/step - loss: 4.7007 - mae: 4.7007\n",
            "Epoch 116/200\n",
            "1/1 [==============================] - 0s 9ms/step - loss: 4.6015 - mae: 4.6015\n",
            "Epoch 117/200\n",
            "1/1 [==============================] - 0s 9ms/step - loss: 4.5029 - mae: 4.5029\n",
            "Epoch 118/200\n",
            "1/1 [==============================] - 0s 6ms/step - loss: 4.4036 - mae: 4.4036\n",
            "Epoch 119/200\n",
            "1/1 [==============================] - 0s 12ms/step - loss: 4.3036 - mae: 4.3036\n",
            "Epoch 120/200\n",
            "1/1 [==============================] - 0s 6ms/step - loss: 4.2029 - mae: 4.2029\n",
            "Epoch 121/200\n",
            "1/1 [==============================] - 0s 8ms/step - loss: 4.1014 - mae: 4.1014\n",
            "Epoch 122/200\n",
            "1/1 [==============================] - 0s 6ms/step - loss: 3.9993 - mae: 3.9993\n",
            "Epoch 123/200\n",
            "1/1 [==============================] - 0s 5ms/step - loss: 3.8984 - mae: 3.8984\n",
            "Epoch 124/200\n",
            "1/1 [==============================] - 0s 4ms/step - loss: 3.8663 - mae: 3.8663\n",
            "Epoch 125/200\n",
            "1/1 [==============================] - 0s 7ms/step - loss: 3.8358 - mae: 3.8358\n",
            "Epoch 126/200\n",
            "1/1 [==============================] - 0s 13ms/step - loss: 3.8069 - mae: 3.8069\n",
            "Epoch 127/200\n",
            "1/1 [==============================] - 0s 7ms/step - loss: 3.7792 - mae: 3.7792\n",
            "Epoch 128/200\n",
            "1/1 [==============================] - 0s 5ms/step - loss: 3.7528 - mae: 3.7528\n",
            "Epoch 129/200\n",
            "1/1 [==============================] - 0s 9ms/step - loss: 3.7283 - mae: 3.7283\n",
            "Epoch 130/200\n",
            "1/1 [==============================] - 0s 5ms/step - loss: 3.7035 - mae: 3.7035\n",
            "Epoch 131/200\n",
            "1/1 [==============================] - 0s 6ms/step - loss: 3.6804 - mae: 3.6804\n",
            "Epoch 132/200\n",
            "1/1 [==============================] - 0s 4ms/step - loss: 3.6580 - mae: 3.6580\n",
            "Epoch 133/200\n",
            "1/1 [==============================] - 0s 5ms/step - loss: 3.6363 - mae: 3.6363\n",
            "Epoch 134/200\n",
            "1/1 [==============================] - 0s 15ms/step - loss: 3.6151 - mae: 3.6151\n",
            "Epoch 135/200\n",
            "1/1 [==============================] - 0s 10ms/step - loss: 3.5989 - mae: 3.5989\n",
            "Epoch 136/200\n",
            "1/1 [==============================] - 0s 6ms/step - loss: 3.6082 - mae: 3.6082\n",
            "Epoch 137/200\n",
            "1/1 [==============================] - 0s 5ms/step - loss: 3.6161 - mae: 3.6161\n",
            "Epoch 138/200\n",
            "1/1 [==============================] - 0s 5ms/step - loss: 3.6224 - mae: 3.6224\n",
            "Epoch 139/200\n",
            "1/1 [==============================] - 0s 6ms/step - loss: 3.6273 - mae: 3.6273\n",
            "Epoch 140/200\n",
            "1/1 [==============================] - 0s 11ms/step - loss: 3.6309 - mae: 3.6309\n",
            "Epoch 141/200\n",
            "1/1 [==============================] - 0s 9ms/step - loss: 3.6332 - mae: 3.6332\n",
            "Epoch 142/200\n",
            "1/1 [==============================] - 0s 9ms/step - loss: 3.6345 - mae: 3.6345\n",
            "Epoch 143/200\n",
            "1/1 [==============================] - 0s 7ms/step - loss: 3.6347 - mae: 3.6347\n",
            "Epoch 144/200\n",
            "1/1 [==============================] - 0s 7ms/step - loss: 3.6341 - mae: 3.6341\n",
            "Epoch 145/200\n",
            "1/1 [==============================] - 0s 7ms/step - loss: 3.6326 - mae: 3.6326\n",
            "Epoch 146/200\n",
            "1/1 [==============================] - 0s 8ms/step - loss: 3.6304 - mae: 3.6304\n",
            "Epoch 147/200\n",
            "1/1 [==============================] - 0s 7ms/step - loss: 3.6285 - mae: 3.6285\n",
            "Epoch 148/200\n",
            "1/1 [==============================] - 0s 8ms/step - loss: 3.6244 - mae: 3.6244\n",
            "Epoch 149/200\n",
            "1/1 [==============================] - 0s 13ms/step - loss: 3.6208 - mae: 3.6208\n",
            "Epoch 150/200\n",
            "1/1 [==============================] - 0s 6ms/step - loss: 3.6166 - mae: 3.6166\n",
            "Epoch 151/200\n",
            "1/1 [==============================] - 0s 7ms/step - loss: 3.6119 - mae: 3.6119\n",
            "Epoch 152/200\n",
            "1/1 [==============================] - 0s 8ms/step - loss: 3.6068 - mae: 3.6068\n",
            "Epoch 153/200\n",
            "1/1 [==============================] - 0s 10ms/step - loss: 3.6013 - mae: 3.6013\n",
            "Epoch 154/200\n",
            "1/1 [==============================] - 0s 8ms/step - loss: 3.5954 - mae: 3.5954\n",
            "Epoch 155/200\n",
            "1/1 [==============================] - 0s 8ms/step - loss: 3.5905 - mae: 3.5905\n",
            "Epoch 156/200\n",
            "1/1 [==============================] - 0s 28ms/step - loss: 3.5830 - mae: 3.5830\n",
            "Epoch 157/200\n",
            "1/1 [==============================] - 0s 6ms/step - loss: 3.5766 - mae: 3.5766\n",
            "Epoch 158/200\n",
            "1/1 [==============================] - 0s 8ms/step - loss: 3.5699 - mae: 3.5699\n",
            "Epoch 159/200\n",
            "1/1 [==============================] - 0s 11ms/step - loss: 3.5629 - mae: 3.5629\n",
            "Epoch 160/200\n",
            "1/1 [==============================] - 0s 10ms/step - loss: 3.5556 - mae: 3.5556\n",
            "Epoch 161/200\n",
            "1/1 [==============================] - 0s 6ms/step - loss: 3.5481 - mae: 3.5481\n",
            "Epoch 162/200\n",
            "1/1 [==============================] - 0s 8ms/step - loss: 3.5440 - mae: 3.5440\n",
            "Epoch 163/200\n",
            "1/1 [==============================] - 0s 5ms/step - loss: 3.5468 - mae: 3.5468\n",
            "Epoch 164/200\n",
            "1/1 [==============================] - 0s 6ms/step - loss: 3.5485 - mae: 3.5485\n",
            "Epoch 165/200\n",
            "1/1 [==============================] - 0s 7ms/step - loss: 3.5472 - mae: 3.5472\n",
            "Epoch 166/200\n",
            "1/1 [==============================] - 0s 10ms/step - loss: 3.5450 - mae: 3.5450\n",
            "Epoch 167/200\n",
            "1/1 [==============================] - 0s 11ms/step - loss: 3.5414 - mae: 3.5414\n",
            "Epoch 168/200\n",
            "1/1 [==============================] - 0s 5ms/step - loss: 3.5363 - mae: 3.5363\n",
            "Epoch 169/200\n",
            "1/1 [==============================] - 0s 7ms/step - loss: 3.5300 - mae: 3.5300\n",
            "Epoch 170/200\n",
            "1/1 [==============================] - 0s 5ms/step - loss: 3.5225 - mae: 3.5225\n",
            "Epoch 171/200\n",
            "1/1 [==============================] - 0s 6ms/step - loss: 3.5201 - mae: 3.5201\n",
            "Epoch 172/200\n",
            "1/1 [==============================] - 0s 5ms/step - loss: 3.5197 - mae: 3.5197\n",
            "Epoch 173/200\n",
            "1/1 [==============================] - 0s 10ms/step - loss: 3.5203 - mae: 3.5203\n",
            "Epoch 174/200\n",
            "1/1 [==============================] - 0s 5ms/step - loss: 3.5163 - mae: 3.5163\n",
            "Epoch 175/200\n",
            "1/1 [==============================] - 0s 5ms/step - loss: 3.5136 - mae: 3.5136\n",
            "Epoch 176/200\n",
            "1/1 [==============================] - 0s 7ms/step - loss: 3.5103 - mae: 3.5103\n",
            "Epoch 177/200\n",
            "1/1 [==============================] - 0s 13ms/step - loss: 3.5064 - mae: 3.5064\n",
            "Epoch 178/200\n",
            "1/1 [==============================] - 0s 6ms/step - loss: 3.5020 - mae: 3.5020\n",
            "Epoch 179/200\n",
            "1/1 [==============================] - 0s 8ms/step - loss: 3.4970 - mae: 3.4970\n",
            "Epoch 180/200\n",
            "1/1 [==============================] - 0s 9ms/step - loss: 3.4921 - mae: 3.4921\n",
            "Epoch 181/200\n",
            "1/1 [==============================] - 0s 6ms/step - loss: 3.4895 - mae: 3.4895\n",
            "Epoch 182/200\n",
            "1/1 [==============================] - 0s 9ms/step - loss: 3.4891 - mae: 3.4891\n",
            "Epoch 183/200\n",
            "1/1 [==============================] - 0s 6ms/step - loss: 3.4869 - mae: 3.4869\n",
            "Epoch 184/200\n",
            "1/1 [==============================] - 0s 5ms/step - loss: 3.4829 - mae: 3.4829\n",
            "Epoch 185/200\n",
            "1/1 [==============================] - 0s 8ms/step - loss: 3.4773 - mae: 3.4773\n",
            "Epoch 186/200\n",
            "1/1 [==============================] - 0s 5ms/step - loss: 3.4735 - mae: 3.4735\n",
            "Epoch 187/200\n",
            "1/1 [==============================] - 0s 6ms/step - loss: 3.4716 - mae: 3.4716\n",
            "Epoch 188/200\n",
            "1/1 [==============================] - 0s 5ms/step - loss: 3.4688 - mae: 3.4688\n",
            "Epoch 189/200\n",
            "1/1 [==============================] - 0s 13ms/step - loss: 3.4651 - mae: 3.4651\n",
            "Epoch 190/200\n",
            "1/1 [==============================] - 0s 11ms/step - loss: 3.4619 - mae: 3.4619\n",
            "Epoch 191/200\n",
            "1/1 [==============================] - 0s 23ms/step - loss: 3.4562 - mae: 3.4562\n",
            "Epoch 192/200\n",
            "1/1 [==============================] - 0s 13ms/step - loss: 3.4523 - mae: 3.4523\n",
            "Epoch 193/200\n",
            "1/1 [==============================] - 0s 8ms/step - loss: 3.4498 - mae: 3.4498\n",
            "Epoch 194/200\n",
            "1/1 [==============================] - 0s 15ms/step - loss: 3.4454 - mae: 3.4454\n",
            "Epoch 195/200\n",
            "1/1 [==============================] - 0s 8ms/step - loss: 3.4408 - mae: 3.4408\n",
            "Epoch 196/200\n",
            "1/1 [==============================] - 0s 16ms/step - loss: 3.4371 - mae: 3.4371\n",
            "Epoch 197/200\n",
            "1/1 [==============================] - 0s 11ms/step - loss: 3.4331 - mae: 3.4331\n",
            "Epoch 198/200\n",
            "1/1 [==============================] - 0s 9ms/step - loss: 3.4275 - mae: 3.4275\n",
            "Epoch 199/200\n",
            "1/1 [==============================] - 0s 14ms/step - loss: 3.4244 - mae: 3.4244\n",
            "Epoch 200/200\n",
            "1/1 [==============================] - 0s 13ms/step - loss: 3.4194 - mae: 3.4194\n"
          ]
        },
        {
          "output_type": "execute_result",
          "data": {
            "text/plain": [
              "<keras.callbacks.History at 0x7fe1735715d0>"
            ]
          },
          "metadata": {},
          "execution_count": 16
        }
      ]
    },
    {
      "cell_type": "code",
      "metadata": {
        "colab": {
          "base_uri": "https://localhost:8080/"
        },
        "id": "tj8i14L2Z8oT",
        "outputId": "76a907eb-8c58-40cf-e29e-aa2cc1250447"
      },
      "source": [
        "X, y"
      ],
      "execution_count": null,
      "outputs": [
        {
          "output_type": "execute_result",
          "data": {
            "text/plain": [
              "(<tf.Tensor: shape=(8,), dtype=float64, numpy=array([-7., -4., -1.,  2.,  5.,  8., 11., 14.])>,\n",
              " <tf.Tensor: shape=(8,), dtype=float64, numpy=array([ 3.,  6.,  9., 12., 15., 18., 21., 24.])>)"
            ]
          },
          "metadata": {},
          "execution_count": 17
        }
      ]
    },
    {
      "cell_type": "code",
      "metadata": {
        "colab": {
          "base_uri": "https://localhost:8080/"
        },
        "id": "k_1XJ8mxXnNo",
        "outputId": "ebad9144-d596-4cc5-93cc-c83d6d673941"
      },
      "source": [
        "y_pred = model.predict([17.])\n",
        "y_pred"
      ],
      "execution_count": null,
      "outputs": [
        {
          "output_type": "execute_result",
          "data": {
            "text/plain": [
              "array([[31.574177]], dtype=float32)"
            ]
          },
          "metadata": {},
          "execution_count": 18
        }
      ]
    },
    {
      "cell_type": "markdown",
      "metadata": {
        "id": "LjbBu_2zXvNv"
      },
      "source": [
        "### When evaluating model you should visualize it"
      ]
    },
    {
      "cell_type": "code",
      "metadata": {
        "colab": {
          "base_uri": "https://localhost:8080/"
        },
        "id": "2uSFITCqbQDv",
        "outputId": "0f2ef45a-88ce-4cca-d362-c7550d904c1f"
      },
      "source": [
        "# Make a bigger dataset\n",
        "X = tf.range(-100, 100, 4)\n",
        "X"
      ],
      "execution_count": null,
      "outputs": [
        {
          "output_type": "execute_result",
          "data": {
            "text/plain": [
              "<tf.Tensor: shape=(50,), dtype=int32, numpy=\n",
              "array([-100,  -96,  -92,  -88,  -84,  -80,  -76,  -72,  -68,  -64,  -60,\n",
              "        -56,  -52,  -48,  -44,  -40,  -36,  -32,  -28,  -24,  -20,  -16,\n",
              "        -12,   -8,   -4,    0,    4,    8,   12,   16,   20,   24,   28,\n",
              "         32,   36,   40,   44,   48,   52,   56,   60,   64,   68,   72,\n",
              "         76,   80,   84,   88,   92,   96], dtype=int32)>"
            ]
          },
          "metadata": {},
          "execution_count": 4
        }
      ]
    },
    {
      "cell_type": "code",
      "metadata": {
        "colab": {
          "base_uri": "https://localhost:8080/"
        },
        "id": "hVAw22llb1Tp",
        "outputId": "0d5f7ccf-8d56-49d4-bc76-108a5f001a38"
      },
      "source": [
        "# Make labels for dataset\n",
        "y = X + 10\n",
        "y"
      ],
      "execution_count": null,
      "outputs": [
        {
          "output_type": "execute_result",
          "data": {
            "text/plain": [
              "<tf.Tensor: shape=(50,), dtype=int32, numpy=\n",
              "array([-90, -86, -82, -78, -74, -70, -66, -62, -58, -54, -50, -46, -42,\n",
              "       -38, -34, -30, -26, -22, -18, -14, -10,  -6,  -2,   2,   6,  10,\n",
              "        14,  18,  22,  26,  30,  34,  38,  42,  46,  50,  54,  58,  62,\n",
              "        66,  70,  74,  78,  82,  86,  90,  94,  98, 102, 106], dtype=int32)>"
            ]
          },
          "metadata": {},
          "execution_count": 5
        }
      ]
    },
    {
      "cell_type": "code",
      "metadata": {
        "id": "hrnTeAfgb7r8"
      },
      "source": [
        "# Visualize data\n",
        "import matplotlib.pyplot as plt"
      ],
      "execution_count": null,
      "outputs": []
    },
    {
      "cell_type": "code",
      "metadata": {
        "colab": {
          "base_uri": "https://localhost:8080/"
        },
        "id": "v8KI-k5OcGtJ",
        "outputId": "6a6087a5-d7db-474e-aece-de14460fe594"
      },
      "source": [
        "plt.scatter(X, y)"
      ],
      "execution_count": null,
      "outputs": [
        {
          "output_type": "execute_result",
          "data": {
            "text/plain": [
              "<matplotlib.collections.PathCollection at 0x7fe1734485d0>"
            ]
          },
          "metadata": {},
          "execution_count": 22
        },
        {
          "output_type": "display_data",
          "data": {
            "image/png": "[encoded data removed]",
            "text/plain": [
              "<Figure size 432x288 with 1 Axes>"
            ]
          },
          "metadata": {
            "needs_background": "light"
          }
        }
      ]
    },
    {
      "cell_type": "markdown",
      "metadata": {
        "id": "yDlbRY5rcKf9"
      },
      "source": [
        "## 3 sets ...\n",
        "* **trainig** set 70-80%\n",
        "* **validation** set - model tuned, 10-15%\n",
        "* **test set** - model evaluating, 10-15%"
      ]
    },
    {
      "cell_type": "code",
      "metadata": {
        "colab": {
          "base_uri": "https://localhost:8080/"
        },
        "id": "NajN_olacmxw",
        "outputId": "1d52894a-a8e4-47d2-9f1f-223f7f420c27"
      },
      "source": [
        "len(X)"
      ],
      "execution_count": null,
      "outputs": [
        {
          "output_type": "execute_result",
          "data": {
            "text/plain": [
              "50"
            ]
          },
          "metadata": {},
          "execution_count": 23
        }
      ]
    },
    {
      "cell_type": "code",
      "metadata": {
        "colab": {
          "base_uri": "https://localhost:8080/"
        },
        "id": "6-LSh-urdemO",
        "outputId": "9081a7ad-dd85-4518-b8ce-cd11868a02cd"
      },
      "source": [
        "# Split data into training and test set\n",
        "X_train = X[:40]\n",
        "y_train = y[:40]\n",
        "\n",
        "X_test = X[40:]\n",
        "y_test = y[40:]\n",
        "\n",
        "len(X_train), len(X_test), len(y_train), len(y_test)"
      ],
      "execution_count": null,
      "outputs": [
        {
          "output_type": "execute_result",
          "data": {
            "text/plain": [
              "(40, 10, 40, 10)"
            ]
          },
          "metadata": {},
          "execution_count": 6
        }
      ]
    },
    {
      "cell_type": "code",
      "metadata": {
        "colab": {
          "base_uri": "https://localhost:8080/",
          "height": 445
        },
        "id": "MJHu3pozeMoP",
        "outputId": "d68522f9-480f-48d0-c4f6-9eb4de4c378a"
      },
      "source": [
        "plt.figure(figsize=(10, 7))\n",
        "plt.scatter(X_train, y_train, c='b', label='Training data')\n",
        "plt.scatter(X_test, y_test, c='g', label='Test data')\n",
        "plt.legend()"
      ],
      "execution_count": null,
      "outputs": [
        {
          "output_type": "execute_result",
          "data": {
            "text/plain": [
              "<matplotlib.legend.Legend at 0x7fe17265e510>"
            ]
          },
          "metadata": {},
          "execution_count": 25
        },
        {
          "output_type": "display_data",
          "data": {
            "image/png": "[encoded data removed]",
            "text/plain": [
              "<Figure size 720x504 with 1 Axes>"
            ]
          },
          "metadata": {
            "needs_background": "light"
          }
        }
      ]
    },
    {
      "cell_type": "code",
      "metadata": {
        "id": "V-IYviOyfN1W"
      },
      "source": [
        "# Let's have look at neural network\n",
        "# 1. Create a model\n",
        "model = tf.keras.Sequential([tf.keras.layers.Dense(10), tf.keras.layers.Dense(1)])\n",
        "\n",
        "# 2. Compile the model\n",
        "model.compile(loss=tf.keras.losses.mae, optimizer=tf.keras.optimizers.SGD(), metrics=['mae'])\n",
        "\n",
        "# # 3. Fit the model\n",
        "# model.fit(X_train, y_train, epochs=100)"
      ],
      "execution_count": null,
      "outputs": []
    },
    {
      "cell_type": "markdown",
      "metadata": {
        "id": "aSmUxXPhgu0i"
      },
      "source": [
        "## Visualizing the model"
      ]
    },
    {
      "cell_type": "code",
      "metadata": {
        "id": "DabxCW9Dg8e4"
      },
      "source": [
        "# Let's create a model with automatic build\n",
        "tf.random.set_seed(42)\n",
        "\n",
        "# 1. Create a model\n",
        "model = tf.keras.Sequential([tf.keras.layers.Dense(10, input_shape=[1], name='input_layer'),\n",
        "                             tf.keras.layers.Dense(1, name='output_layer')],\n",
        "                            name='model_1')\n",
        "\n",
        "# 2. Compile the model\n",
        "model.compile(loss=tf.keras.losses.mae, optimizer=tf.keras.optimizers.SGD(), metrics=['mae'])"
      ],
      "execution_count": null,
      "outputs": []
    },
    {
      "cell_type": "code",
      "metadata": {
        "colab": {
          "base_uri": "https://localhost:8080/"
        },
        "id": "WtifSErWhOST",
        "outputId": "e38264d3-091c-4516-cbc0-56deb8190c11"
      },
      "source": [
        "model.summary()"
      ],
      "execution_count": null,
      "outputs": [
        {
          "output_type": "stream",
          "name": "stdout",
          "text": [
            "Model: \"model_1\"\n",
            "_________________________________________________________________\n",
            "Layer (type)                 Output Shape              Param #   \n",
            "=================================================================\n",
            "input_layer (Dense)          (None, 10)                20        \n",
            "_________________________________________________________________\n",
            "output_layer (Dense)         (None, 1)                 11        \n",
            "=================================================================\n",
            "Total params: 31\n",
            "Trainable params: 31\n",
            "Non-trainable params: 0\n",
            "_________________________________________________________________\n"
          ]
        }
      ]
    },
    {
      "cell_type": "code",
      "metadata": {
        "colab": {
          "base_uri": "https://localhost:8080/"
        },
        "id": "UcFFm2doilFs",
        "outputId": "e7ea1d77-b604-4d21-be32-5ac348b0b47c"
      },
      "source": [
        "# 3. Fit model to our training data\n",
        "model.fit(X_train, y_train, epochs=100, verbose=0)"
      ],
      "execution_count": null,
      "outputs": [
        {
          "output_type": "execute_result",
          "data": {
            "text/plain": [
              "<keras.callbacks.History at 0x7fe16fbce350>"
            ]
          },
          "metadata": {},
          "execution_count": 66
        }
      ]
    },
    {
      "cell_type": "code",
      "metadata": {
        "colab": {
          "base_uri": "https://localhost:8080/"
        },
        "id": "2qK-pS3Rk8XF",
        "outputId": "fd1a342d-79e5-40fa-ce12-98633ed7a32d"
      },
      "source": [
        "# Get a model of summary\n",
        "model.summary()"
      ],
      "execution_count": null,
      "outputs": [
        {
          "output_type": "stream",
          "name": "stdout",
          "text": [
            "Model: \"model_1\"\n",
            "_________________________________________________________________\n",
            "Layer (type)                 Output Shape              Param #   \n",
            "=================================================================\n",
            "input_layer (Dense)          (None, 10)                20        \n",
            "_________________________________________________________________\n",
            "output_layer (Dense)         (None, 1)                 11        \n",
            "=================================================================\n",
            "Total params: 31\n",
            "Trainable params: 31\n",
            "Non-trainable params: 0\n",
            "_________________________________________________________________\n"
          ]
        }
      ]
    },
    {
      "cell_type": "code",
      "metadata": {
        "colab": {
          "base_uri": "https://localhost:8080/",
          "height": 312
        },
        "id": "kpIWXlZ5lVe8",
        "outputId": "39f5f0bc-e066-4f19-cfb0-47512a8ea6f4"
      },
      "source": [
        "from tensorflow.keras.utils import plot_model\n",
        "plot_model(model=model, show_shapes=True)"
      ],
      "execution_count": null,
      "outputs": [
        {
          "output_type": "execute_result",
          "data": {
            "image/png": "[encoded data removed]",
            "text/plain": [
              "<IPython.core.display.Image object>"
            ]
          },
          "metadata": {},
          "execution_count": 68
        }
      ]
    },
    {
      "cell_type": "code",
      "metadata": {
        "id": "UnTpT2pvlz-W",
        "colab": {
          "base_uri": "https://localhost:8080/"
        },
        "outputId": "427f4647-fa43-44ef-deb4-a1a3c02f3ad1"
      },
      "source": [
        "y_pred = model.predict(X_test)\n",
        "y_pred"
      ],
      "execution_count": null,
      "outputs": [
        {
          "output_type": "execute_result",
          "data": {
            "text/plain": [
              "array([[ 70.55218 ],\n",
              "       [ 75.13991 ],\n",
              "       [ 79.72763 ],\n",
              "       [ 84.31535 ],\n",
              "       [ 88.903076],\n",
              "       [ 93.49081 ],\n",
              "       [ 98.07853 ],\n",
              "       [102.66625 ],\n",
              "       [107.253975],\n",
              "       [111.8417  ]], dtype=float32)"
            ]
          },
          "metadata": {},
          "execution_count": 69
        }
      ]
    },
    {
      "cell_type": "code",
      "metadata": {
        "colab": {
          "base_uri": "https://localhost:8080/"
        },
        "id": "rAf4fZOBiVJ8",
        "outputId": "687486b5-cd2d-411a-d5fc-251ba290ad66"
      },
      "source": [
        "y_test"
      ],
      "execution_count": null,
      "outputs": [
        {
          "output_type": "execute_result",
          "data": {
            "text/plain": [
              "<tf.Tensor: shape=(10,), dtype=int32, numpy=array([ 70,  74,  78,  82,  86,  90,  94,  98, 102, 106], dtype=int32)>"
            ]
          },
          "metadata": {},
          "execution_count": 70
        }
      ]
    },
    {
      "cell_type": "code",
      "metadata": {
        "id": "QeuFlw-jijhe"
      },
      "source": [
        "def plot_predictions(train_data, train_labels, test_data, test_labels, predictions):\n",
        "  \"\"\"\n",
        "  plot traing data and test data\n",
        "  \"\"\"\n",
        "  plt.figure(figsize=(10, 7))\n",
        "  plt.scatter(train_data, train_labels, c='b', label='Trainig data')\n",
        "  plt.scatter(test_data, test_labels, c='g', label='Testing data')\n",
        "  plt.scatter(test_data, predictions, c='r', label='Predictions')\n",
        "  plt.legend();"
      ],
      "execution_count": null,
      "outputs": []
    },
    {
      "cell_type": "code",
      "metadata": {
        "colab": {
          "base_uri": "https://localhost:8080/",
          "height": 428
        },
        "id": "v_KNJI4BkRZx",
        "outputId": "9d62e5a7-fbb3-4a36-ecc6-f02ca93ddb0e"
      },
      "source": [
        "plot_predictions()"
      ],
      "execution_count": null,
      "outputs": [
        {
          "output_type": "display_data",
          "data": {
            "image/png": "[encoded data removed]",
            "text/plain": [
              "<Figure size 720x504 with 1 Axes>"
            ]
          },
          "metadata": {
            "needs_background": "light"
          }
        }
      ]
    },
    {
      "cell_type": "markdown",
      "metadata": {
        "id": "-Uw8SK21kVOB"
      },
      "source": [
        "## Evaluating our model's predictions with regression evaluation metrics\n",
        "Depending the problem we are working on there are several evaluation methods.\n",
        "* MAE\n",
        "* MSE"
      ]
    },
    {
      "cell_type": "code",
      "metadata": {
        "colab": {
          "base_uri": "https://localhost:8080/"
        },
        "id": "H3vPcBiNoDtN",
        "outputId": "b1fe3358-e995-4fd7-ccc7-dfea8925e171"
      },
      "source": [
        "# Evaluate the model on the test set\n",
        "model.evaluate(X_test, y_test)"
      ],
      "execution_count": null,
      "outputs": [
        {
          "output_type": "stream",
          "name": "stdout",
          "text": [
            "1/1 [==============================] - 0s 146ms/step - loss: 3.1969 - mae: 3.1969\n"
          ]
        },
        {
          "output_type": "execute_result",
          "data": {
            "text/plain": [
              "[3.196942090988159, 3.196942090988159]"
            ]
          },
          "metadata": {},
          "execution_count": 74
        }
      ]
    },
    {
      "cell_type": "code",
      "metadata": {
        "colab": {
          "base_uri": "https://localhost:8080/"
        },
        "id": "K41LXjViptwk",
        "outputId": "3215a6c1-e039-4cd9-fd1f-b463760269ef"
      },
      "source": [
        "# Calculate the mean absolute error\n",
        "mae = tf.metrics.mean_absolute_error(y_test, tf.constant(y_pred))\n",
        "mae"
      ],
      "execution_count": null,
      "outputs": [
        {
          "output_type": "execute_result",
          "data": {
            "text/plain": [
              "<tf.Tensor: shape=(10,), dtype=float32, numpy=\n",
              "array([17.558258 , 14.1160555, 11.708948 , 10.336929 , 10.       ,\n",
              "       10.698161 , 12.447118 , 15.333002 , 19.253975 , 23.841698 ],\n",
              "      dtype=float32)>"
            ]
          },
          "metadata": {},
          "execution_count": 77
        }
      ]
    },
    {
      "cell_type": "code",
      "metadata": {
        "colab": {
          "base_uri": "https://localhost:8080/"
        },
        "id": "pkP21YinqU88",
        "outputId": "b8d60bf1-70db-4391-f800-6bb1bec04e46"
      },
      "source": [
        "tf.constant(y_pred)"
      ],
      "execution_count": null,
      "outputs": [
        {
          "output_type": "execute_result",
          "data": {
            "text/plain": [
              "<tf.Tensor: shape=(10, 1), dtype=float32, numpy=\n",
              "array([[ 70.55218 ],\n",
              "       [ 75.13991 ],\n",
              "       [ 79.72763 ],\n",
              "       [ 84.31535 ],\n",
              "       [ 88.903076],\n",
              "       [ 93.49081 ],\n",
              "       [ 98.07853 ],\n",
              "       [102.66625 ],\n",
              "       [107.253975],\n",
              "       [111.8417  ]], dtype=float32)>"
            ]
          },
          "metadata": {},
          "execution_count": 81
        }
      ]
    },
    {
      "cell_type": "code",
      "metadata": {
        "id": "-volnLwQrE35"
      },
      "source": [
        "mae = tf.metrics.mean_absolute_error(y_test, tf.squeeze(y_pred))"
      ],
      "execution_count": null,
      "outputs": []
    },
    {
      "cell_type": "code",
      "metadata": {
        "colab": {
          "base_uri": "https://localhost:8080/"
        },
        "id": "1VjxiVPNrmlg",
        "outputId": "2465cd69-c245-4270-f1f7-576a12b1d1ad"
      },
      "source": [
        "mae"
      ],
      "execution_count": null,
      "outputs": [
        {
          "output_type": "execute_result",
          "data": {
            "text/plain": [
              "<tf.Tensor: shape=(), dtype=float32, numpy=3.1969407>"
            ]
          },
          "metadata": {},
          "execution_count": 85
        }
      ]
    },
    {
      "cell_type": "code",
      "metadata": {
        "colab": {
          "base_uri": "https://localhost:8080/"
        },
        "id": "Ml8f0ezBr5-L",
        "outputId": "492b4f77-b0bc-4675-ad7e-e4ec96018532"
      },
      "source": [
        "# Calculate the mean square error\n",
        "mse = tf.metrics.mean_squared_error(y_test, tf.squeeze(y_pred))\n",
        "mse"
      ],
      "execution_count": null,
      "outputs": [
        {
          "output_type": "execute_result",
          "data": {
            "text/plain": [
              "<tf.Tensor: shape=(), dtype=float32, numpy=13.070143>"
            ]
          },
          "metadata": {},
          "execution_count": 86
        }
      ]
    },
    {
      "cell_type": "code",
      "metadata": {
        "id": "JzRzYwEpsd-_"
      },
      "source": [
        "# Make function to use mae and mse\n",
        "def evaluation(evaluation_method, y_true, y_pred):\n",
        "  if evaluation_method == None:\n",
        "    return null\n",
        "  else:\n",
        "    if evaluation_method == 'mae':\n",
        "      mae = tf.metrics.mean_absolute_error(y_true, tf.squeeze(y_pred))\n",
        "      print(f'the mean absolute error (MAE): {mae}')\n",
        "      return mae\n",
        "    if evaluation_method == 'mse':\n",
        "      mse = tf.metrics.mean_squared_error(y_true, tf.squeeze(y_pred))\n",
        "      print(f'the mean squared error (MSE): {mse}')\n",
        "      return mse"
      ],
      "execution_count": null,
      "outputs": []
    },
    {
      "cell_type": "code",
      "metadata": {
        "colab": {
          "base_uri": "https://localhost:8080/"
        },
        "id": "ZQoyq-Rqt5R3",
        "outputId": "3e902f5a-bae0-45a6-cf72-cacab8534618"
      },
      "source": [
        "evaluation(evaluation_method='mae', y_true=y_test, y_pred=y_pred)"
      ],
      "execution_count": null,
      "outputs": [
        {
          "output_type": "stream",
          "name": "stdout",
          "text": [
            "the maen absolute error: 3.1969406604766846\n"
          ]
        }
      ]
    },
    {
      "cell_type": "code",
      "metadata": {
        "colab": {
          "base_uri": "https://localhost:8080/"
        },
        "id": "7wrOWyMHuoD3",
        "outputId": "3ac4d21d-cc3b-49d3-bcbf-fb1e7add2392"
      },
      "source": [
        "evaluation(evaluation_method='mse', y_true=y_test, y_pred=y_pred)"
      ],
      "execution_count": null,
      "outputs": [
        {
          "output_type": "stream",
          "name": "stdout",
          "text": [
            "the maen absolute error: 13.07014274597168\n"
          ]
        }
      ]
    },
    {
      "cell_type": "markdown",
      "metadata": {
        "id": "IsLv6Sbru6f3"
      },
      "source": [
        "### Running experiments to improve our model\n",
        "\n",
        "```\n",
        "Build a model -> fit it -> evaluate it -> tweak it -> fit it -> evaluate it -> tweak it ...\n",
        "```\n",
        "1. Get more data - get more examples for your model to train on (more apputrunities to learn more patterns)\n",
        "2. Make your model more larger (using a more complex model) - this comre from more layers or more hidden units in each layer.\n",
        "3. Train for longer - give your model more chace to find patterns in the data."
      ]
    },
    {
      "cell_type": "code",
      "metadata": {
        "colab": {
          "base_uri": "https://localhost:8080/"
        },
        "id": "qWOGIHlkw7Zm",
        "outputId": "472a0bd2-92cd-44c7-fcab-dce4782a8632"
      },
      "source": [
        "X_train, y_train"
      ],
      "execution_count": null,
      "outputs": [
        {
          "output_type": "execute_result",
          "data": {
            "text/plain": [
              "(<tf.Tensor: shape=(40,), dtype=int32, numpy=\n",
              " array([-100,  -96,  -92,  -88,  -84,  -80,  -76,  -72,  -68,  -64,  -60,\n",
              "         -56,  -52,  -48,  -44,  -40,  -36,  -32,  -28,  -24,  -20,  -16,\n",
              "         -12,   -8,   -4,    0,    4,    8,   12,   16,   20,   24,   28,\n",
              "          32,   36,   40,   44,   48,   52,   56], dtype=int32)>,\n",
              " <tf.Tensor: shape=(40,), dtype=int32, numpy=\n",
              " array([-90, -86, -82, -78, -74, -70, -66, -62, -58, -54, -50, -46, -42,\n",
              "        -38, -34, -30, -26, -22, -18, -14, -10,  -6,  -2,   2,   6,  10,\n",
              "         14,  18,  22,  26,  30,  34,  38,  42,  46,  50,  54,  58,  62,\n",
              "         66], dtype=int32)>)"
            ]
          },
          "metadata": {},
          "execution_count": 94
        }
      ]
    },
    {
      "cell_type": "code",
      "metadata": {
        "colab": {
          "base_uri": "https://localhost:8080/"
        },
        "id": "WRQHR2Fkw-JS",
        "outputId": "a060c166-2de1-4be5-c528-e3662a15b095"
      },
      "source": [
        "tf.random.set_seed(42)\n",
        "\n",
        "model_1 = tf.keras.Sequential([tf.keras.layers.Dense(1)])\n",
        "model_1.compile(loss=tf.keras.losses.mae, optimizer=tf.keras.optimizers.SGD(), metrics='mae')\n",
        "model_1.fit(X_train, y_train, epochs=100, verbose=0)"
      ],
      "execution_count": null,
      "outputs": [
        {
          "output_type": "execute_result",
          "data": {
            "text/plain": [
              "<keras.callbacks.History at 0x7f2130bfb650>"
            ]
          },
          "metadata": {},
          "execution_count": 23
        }
      ]
    },
    {
      "cell_type": "code",
      "metadata": {
        "colab": {
          "base_uri": "https://localhost:8080/",
          "height": 428
        },
        "id": "kmxCZ3_pybX2",
        "outputId": "6569ef15-7145-4e08-f654-e4d1a36fc190"
      },
      "source": [
        "y_pred_1 = model_1.predict(X_test)\n",
        "plot_predictions(X_train, y_train, X_test, y_test, y_pred_1)"
      ],
      "execution_count": null,
      "outputs": [
        {
          "output_type": "display_data",
          "data": {
            "image/png": "[encoded data removed]",
            "text/plain": [
              "<Figure size 720x504 with 1 Axes>"
            ]
          },
          "metadata": {
            "needs_background": "light"
          }
        }
      ]
    },
    {
      "cell_type": "code",
      "metadata": {
        "colab": {
          "base_uri": "https://localhost:8080/"
        },
        "id": "F1cRZ1GO0zLC",
        "outputId": "978d271e-5848-48f2-c75f-f40828255394"
      },
      "source": [
        "mae_1 = evaluation('mae', y_test, y_pred_1)\n",
        "mse_1 = evaluation('mse', y_test, y_pred_1)"
      ],
      "execution_count": null,
      "outputs": [
        {
          "output_type": "stream",
          "name": "stdout",
          "text": [
            "the mean absolute error (MAE): 18.74532699584961\n",
            "the mean squared error (MSE): 353.5733642578125\n"
          ]
        }
      ]
    },
    {
      "cell_type": "code",
      "metadata": {
        "colab": {
          "base_uri": "https://localhost:8080/"
        },
        "id": "1wS1mLsB1O4b",
        "outputId": "c9183514-fe01-4108-df9e-c668f22f948e"
      },
      "source": [
        "tf.random.set_seed(42)\n",
        "model_2 = tf.keras.Sequential([tf.keras.layers.Dense(10),\n",
        "                               tf.keras.layers.Dense(1)])\n",
        "model_2.compile(loss=tf.keras.losses.mae, optimizer=tf.keras.optimizers.SGD(), metrics=['mse'])\n",
        "model_2.fit(X_train, y_train, epochs=100, verbose=0)"
      ],
      "execution_count": null,
      "outputs": [
        {
          "output_type": "execute_result",
          "data": {
            "text/plain": [
              "<keras.callbacks.History at 0x7f2130a69490>"
            ]
          },
          "metadata": {},
          "execution_count": 27
        }
      ]
    },
    {
      "cell_type": "code",
      "metadata": {
        "colab": {
          "base_uri": "https://localhost:8080/",
          "height": 428
        },
        "id": "pbnHW_we3Sob",
        "outputId": "a09d2ab0-13fa-4aa8-b086-a1ee93d45b21"
      },
      "source": [
        "y_pred_2 = model_2.predict(X_test)\n",
        "plot_predictions(X_train, y_train, X_test, y_test, y_pred_2)"
      ],
      "execution_count": null,
      "outputs": [
        {
          "output_type": "display_data",
          "data": {
            "image/png": "[encoded data removed]",
            "text/plain": [
              "<Figure size 720x504 with 1 Axes>"
            ]
          },
          "metadata": {
            "needs_background": "light"
          }
        }
      ]
    },
    {
      "cell_type": "code",
      "metadata": {
        "colab": {
          "base_uri": "https://localhost:8080/"
        },
        "id": "9DFIAK4W33ER",
        "outputId": "66be1295-dece-4952-a1cc-29b039a270f3"
      },
      "source": [
        "mae_2 = evaluation('mae', y_test, y_pred_2)\n",
        "mse_2 = evaluation('mse', y_test, y_pred_2)"
      ],
      "execution_count": null,
      "outputs": [
        {
          "output_type": "stream",
          "name": "stdout",
          "text": [
            "the mean absolute error (MAE): 3.1969406604766846\n",
            "the mean squared error (MSE): 13.07014274597168\n"
          ]
        }
      ]
    },
    {
      "cell_type": "code",
      "metadata": {
        "id": "omdqa_Oi5k5c"
      },
      "source": [
        "tf.random.set_seed(42)"
      ],
      "execution_count": null,
      "outputs": []
    },
    {
      "cell_type": "code",
      "metadata": {
        "id": "EEpdhRaG4HN7",
        "colab": {
          "base_uri": "https://localhost:8080/"
        },
        "outputId": "a526b6eb-c58b-4531-fcba-613f4043b923"
      },
      "source": [
        "model_3 = tf.keras.Sequential([tf.keras.layers.Dense(10),\n",
        "                               tf.keras.layers.Dense(1)])\n",
        "model_3.compile(loss=tf.keras.losses.mae, optimizer=tf.keras.optimizers.SGD(), metrics=['mse'])\n",
        "model_3.fit(X_train, y_train, epochs=500, verbose=0)"
      ],
      "execution_count": null,
      "outputs": [
        {
          "output_type": "execute_result",
          "data": {
            "text/plain": [
              "<keras.callbacks.History at 0x7f21307954d0>"
            ]
          },
          "metadata": {},
          "execution_count": 35
        }
      ]
    },
    {
      "cell_type": "code",
      "metadata": {
        "colab": {
          "base_uri": "https://localhost:8080/",
          "height": 465
        },
        "id": "9flCtahN3AP0",
        "outputId": "c7a13af9-065d-49a6-9245-1178e280e82e"
      },
      "source": [
        "y_pred_3 = model_3.predict(X_test)\n",
        "plot_predictions(X_train, y_train, X_test, y_test, predictions=y_pred_3)"
      ],
      "execution_count": null,
      "outputs": [
        {
          "output_type": "stream",
          "name": "stdout",
          "text": [
            "WARNING:tensorflow:6 out of the last 9 calls to <function Model.make_predict_function.<locals>.predict_function at 0x7f2130789d40> triggered tf.function retracing. Tracing is expensive and the excessive number of tracings could be due to (1) creating @tf.function repeatedly in a loop, (2) passing tensors with different shapes, (3) passing Python objects instead of tensors. For (1), please define your @tf.function outside of the loop. For (2), @tf.function has experimental_relax_shapes=True option that relaxes argument shapes that can avoid unnecessary retracing. For (3), please refer to https://www.tensorflow.org/guide/function#controlling_retracing and https://www.tensorflow.org/api_docs/python/tf/function for  more details.\n"
          ]
        },
        {
          "output_type": "display_data",
          "data": {
            "image/png": "[encoded data removed]",
            "text/plain": [
              "<Figure size 720x504 with 1 Axes>"
            ]
          },
          "metadata": {
            "needs_background": "light"
          }
        }
      ]
    },
    {
      "cell_type": "code",
      "metadata": {
        "colab": {
          "base_uri": "https://localhost:8080/"
        },
        "id": "4_CpwTDR3qO4",
        "outputId": "89601a91-8540-4b66-8996-234ffeaa439a"
      },
      "source": [
        "mae_3 = evaluation('mae', y_test, y_pred_3)\n",
        "mse_3 = evaluation('mse', y_test, y_pred_3)"
      ],
      "execution_count": null,
      "outputs": [
        {
          "output_type": "stream",
          "name": "stdout",
          "text": [
            "the mean absolute error (MAE): 68.71361541748047\n",
            "the mean squared error (MSE): 4808.02734375\n"
          ]
        }
      ]
    },
    {
      "cell_type": "code",
      "metadata": {
        "id": "M-4Fi5Hf4gwD"
      },
      "source": [
        "import pandas as pd"
      ],
      "execution_count": null,
      "outputs": []
    },
    {
      "cell_type": "code",
      "metadata": {
        "colab": {
          "base_uri": "https://localhost:8080/",
          "height": 142
        },
        "id": "eM6QZ9Zn7-pA",
        "outputId": "23b63632-3b04-473f-e719-d303c962953b"
      },
      "source": [
        "model_results = [['model_1', mae_1.numpy(), mse_1.numpy()],\n",
        "                 ['model_2', mae_2.numpy(), mse_2.numpy()],\n",
        "                 ['model_3', mae_3.numpy(), mse_3.numpy()]]\n",
        "all_results = pd.DataFrame(model_results, columns=['models', 'mae', 'mse'])\n",
        "all_results"
      ],
      "execution_count": null,
      "outputs": [
        {
          "output_type": "execute_result",
          "data": {
            "text/html": [
              "<div>\n",
              "<style scoped>\n",
              "    .dataframe tbody tr th:only-of-type {\n",
              "        vertical-align: middle;\n",
              "    }\n",
              "\n",
              "    .dataframe tbody tr th {\n",
              "        vertical-align: top;\n",
              "    }\n",
              "\n",
              "    .dataframe thead th {\n",
              "        text-align: right;\n",
              "    }\n",
              "</style>\n",
              "<table border=\"1\" class=\"dataframe\">\n",
              "  <thead>\n",
              "    <tr style=\"text-align: right;\">\n",
              "      <th></th>\n",
              "      <th>models</th>\n",
              "      <th>mae</th>\n",
              "      <th>mse</th>\n",
              "    </tr>\n",
              "  </thead>\n",
              "  <tbody>\n",
              "    <tr>\n",
              "      <th>0</th>\n",
              "      <td>model_1</td>\n",
              "      <td>18.745327</td>\n",
              "      <td>353.573364</td>\n",
              "    </tr>\n",
              "    <tr>\n",
              "      <th>1</th>\n",
              "      <td>model_2</td>\n",
              "      <td>3.196941</td>\n",
              "      <td>13.070143</td>\n",
              "    </tr>\n",
              "    <tr>\n",
              "      <th>2</th>\n",
              "      <td>model_3</td>\n",
              "      <td>68.713615</td>\n",
              "      <td>4808.027344</td>\n",
              "    </tr>\n",
              "  </tbody>\n",
              "</table>\n",
              "</div>"
            ],
            "text/plain": [
              "    models        mae          mse\n",
              "0  model_1  18.745327   353.573364\n",
              "1  model_2   3.196941    13.070143\n",
              "2  model_3  68.713615  4808.027344"
            ]
          },
          "metadata": {},
          "execution_count": 41
        }
      ]
    },
    {
      "cell_type": "code",
      "metadata": {
        "colab": {
          "base_uri": "https://localhost:8080/"
        },
        "id": "PewG9dhd8iOo",
        "outputId": "3fd2ddc5-d77a-4f3e-c829-11642abb3d6e"
      },
      "source": [
        "model_2.summary()"
      ],
      "execution_count": null,
      "outputs": [
        {
          "output_type": "stream",
          "name": "stdout",
          "text": [
            "Model: \"sequential_6\"\n",
            "_________________________________________________________________\n",
            "Layer (type)                 Output Shape              Param #   \n",
            "=================================================================\n",
            "dense_13 (Dense)             (None, 10)                20        \n",
            "_________________________________________________________________\n",
            "dense_14 (Dense)             (None, 1)                 11        \n",
            "=================================================================\n",
            "Total params: 31\n",
            "Trainable params: 31\n",
            "Non-trainable params: 0\n",
            "_________________________________________________________________\n"
          ]
        }
      ]
    },
    {
      "cell_type": "markdown",
      "metadata": {
        "id": "BQttplxs8-E8"
      },
      "source": [
        "## Saving our model"
      ]
    },
    {
      "cell_type": "code",
      "metadata": {
        "colab": {
          "base_uri": "https://localhost:8080/"
        },
        "id": "tvRNomwwAXKe",
        "outputId": "72d9c7c0-e89f-4039-e28d-2e4fbb43260c"
      },
      "source": [
        "model_2.save('best_model_SavedModel_format')"
      ],
      "execution_count": null,
      "outputs": [
        {
          "output_type": "stream",
          "name": "stdout",
          "text": [
            "INFO:tensorflow:Assets written to: best_model_SavedModel_format/assets\n"
          ]
        }
      ]
    },
    {
      "cell_type": "code",
      "metadata": {
        "id": "y22Rv7yQBKLI"
      },
      "source": [
        "model_2.save('best_model_HDF5_format.h5')"
      ],
      "execution_count": null,
      "outputs": []
    },
    {
      "cell_type": "markdown",
      "metadata": {
        "id": "iG8wtu4mCCvP"
      },
      "source": [
        "## Loading a saved model"
      ]
    },
    {
      "cell_type": "code",
      "metadata": {
        "colab": {
          "base_uri": "https://localhost:8080/"
        },
        "id": "8SOSnBgmDE50",
        "outputId": "9ea858c6-17e8-486c-89df-0bcfd943eac5"
      },
      "source": [
        "loaded_model1 = tf.keras.models.load_model(\"best_model_SavedModel_format\")\n",
        "loaded_model1.summary()"
      ],
      "execution_count": null,
      "outputs": [
        {
          "output_type": "stream",
          "name": "stdout",
          "text": [
            "Model: \"sequential_6\"\n",
            "_________________________________________________________________\n",
            "Layer (type)                 Output Shape              Param #   \n",
            "=================================================================\n",
            "dense_13 (Dense)             (None, 10)                20        \n",
            "_________________________________________________________________\n",
            "dense_14 (Dense)             (None, 1)                 11        \n",
            "=================================================================\n",
            "Total params: 31\n",
            "Trainable params: 31\n",
            "Non-trainable params: 0\n",
            "_________________________________________________________________\n"
          ]
        }
      ]
    },
    {
      "cell_type": "code",
      "metadata": {
        "colab": {
          "base_uri": "https://localhost:8080/"
        },
        "id": "ngxD7qFjDj4l",
        "outputId": "40c18550-d557-440b-d64c-ae0061aafd7d"
      },
      "source": [
        "loaded_model2 = tf.keras.models.load_model(\"best_model_HDF5_format.h5\")\n",
        "loaded_model2.summary()"
      ],
      "execution_count": null,
      "outputs": [
        {
          "output_type": "stream",
          "name": "stdout",
          "text": [
            "Model: \"sequential_6\"\n",
            "_________________________________________________________________\n",
            "Layer (type)                 Output Shape              Param #   \n",
            "=================================================================\n",
            "dense_13 (Dense)             (None, 10)                20        \n",
            "_________________________________________________________________\n",
            "dense_14 (Dense)             (None, 1)                 11        \n",
            "=================================================================\n",
            "Total params: 31\n",
            "Trainable params: 31\n",
            "Non-trainable params: 0\n",
            "_________________________________________________________________\n"
          ]
        }
      ]
    },
    {
      "cell_type": "markdown",
      "metadata": {
        "id": "DQn1JiJfD3sn"
      },
      "source": [
        "## A larger Example"
      ]
    },
    {
      "cell_type": "code",
      "metadata": {
        "id": "-HRDhDTa4xAq"
      },
      "source": [
        "import tensorflow as tf\n",
        "import pandas as pd\n",
        "import matplotlib.pyplot as plt\n",
        "import numpy as np\n"
      ],
      "execution_count": 4,
      "outputs": []
    },
    {
      "cell_type": "code",
      "metadata": {
        "colab": {
          "base_uri": "https://localhost:8080/",
          "height": 424
        },
        "id": "kWh0hIxK46i4",
        "outputId": "1a5255cf-f982-4fd8-a522-50fca1b6cfd5"
      },
      "source": [
        "insurance = pd.read_csv(\"https://raw.githubusercontent.com/stedy/Machine-Learning-with-R-datasets/master/insurance.csv\")\n",
        "insurance"
      ],
      "execution_count": 6,
      "outputs": [
        {
          "output_type": "execute_result",
          "data": {
            "text/html": [
              "<div>\n",
              "<style scoped>\n",
              "    .dataframe tbody tr th:only-of-type {\n",
              "        vertical-align: middle;\n",
              "    }\n",
              "\n",
              "    .dataframe tbody tr th {\n",
              "        vertical-align: top;\n",
              "    }\n",
              "\n",
              "    .dataframe thead th {\n",
              "        text-align: right;\n",
              "    }\n",
              "</style>\n",
              "<table border=\"1\" class=\"dataframe\">\n",
              "  <thead>\n",
              "    <tr style=\"text-align: right;\">\n",
              "      <th></th>\n",
              "      <th>age</th>\n",
              "      <th>sex</th>\n",
              "      <th>bmi</th>\n",
              "      <th>children</th>\n",
              "      <th>smoker</th>\n",
              "      <th>region</th>\n",
              "      <th>charges</th>\n",
              "    </tr>\n",
              "  </thead>\n",
              "  <tbody>\n",
              "    <tr>\n",
              "      <th>0</th>\n",
              "      <td>19</td>\n",
              "      <td>female</td>\n",
              "      <td>27.900</td>\n",
              "      <td>0</td>\n",
              "      <td>yes</td>\n",
              "      <td>southwest</td>\n",
              "      <td>16884.92400</td>\n",
              "    </tr>\n",
              "    <tr>\n",
              "      <th>1</th>\n",
              "      <td>18</td>\n",
              "      <td>male</td>\n",
              "      <td>33.770</td>\n",
              "      <td>1</td>\n",
              "      <td>no</td>\n",
              "      <td>southeast</td>\n",
              "      <td>1725.55230</td>\n",
              "    </tr>\n",
              "    <tr>\n",
              "      <th>2</th>\n",
              "      <td>28</td>\n",
              "      <td>male</td>\n",
              "      <td>33.000</td>\n",
              "      <td>3</td>\n",
              "      <td>no</td>\n",
              "      <td>southeast</td>\n",
              "      <td>4449.46200</td>\n",
              "    </tr>\n",
              "    <tr>\n",
              "      <th>3</th>\n",
              "      <td>33</td>\n",
              "      <td>male</td>\n",
              "      <td>22.705</td>\n",
              "      <td>0</td>\n",
              "      <td>no</td>\n",
              "      <td>northwest</td>\n",
              "      <td>21984.47061</td>\n",
              "    </tr>\n",
              "    <tr>\n",
              "      <th>4</th>\n",
              "      <td>32</td>\n",
              "      <td>male</td>\n",
              "      <td>28.880</td>\n",
              "      <td>0</td>\n",
              "      <td>no</td>\n",
              "      <td>northwest</td>\n",
              "      <td>3866.85520</td>\n",
              "    </tr>\n",
              "    <tr>\n",
              "      <th>...</th>\n",
              "      <td>...</td>\n",
              "      <td>...</td>\n",
              "      <td>...</td>\n",
              "      <td>...</td>\n",
              "      <td>...</td>\n",
              "      <td>...</td>\n",
              "      <td>...</td>\n",
              "    </tr>\n",
              "    <tr>\n",
              "      <th>1333</th>\n",
              "      <td>50</td>\n",
              "      <td>male</td>\n",
              "      <td>30.970</td>\n",
              "      <td>3</td>\n",
              "      <td>no</td>\n",
              "      <td>northwest</td>\n",
              "      <td>10600.54830</td>\n",
              "    </tr>\n",
              "    <tr>\n",
              "      <th>1334</th>\n",
              "      <td>18</td>\n",
              "      <td>female</td>\n",
              "      <td>31.920</td>\n",
              "      <td>0</td>\n",
              "      <td>no</td>\n",
              "      <td>northeast</td>\n",
              "      <td>2205.98080</td>\n",
              "    </tr>\n",
              "    <tr>\n",
              "      <th>1335</th>\n",
              "      <td>18</td>\n",
              "      <td>female</td>\n",
              "      <td>36.850</td>\n",
              "      <td>0</td>\n",
              "      <td>no</td>\n",
              "      <td>southeast</td>\n",
              "      <td>1629.83350</td>\n",
              "    </tr>\n",
              "    <tr>\n",
              "      <th>1336</th>\n",
              "      <td>21</td>\n",
              "      <td>female</td>\n",
              "      <td>25.800</td>\n",
              "      <td>0</td>\n",
              "      <td>no</td>\n",
              "      <td>southwest</td>\n",
              "      <td>2007.94500</td>\n",
              "    </tr>\n",
              "    <tr>\n",
              "      <th>1337</th>\n",
              "      <td>61</td>\n",
              "      <td>female</td>\n",
              "      <td>29.070</td>\n",
              "      <td>0</td>\n",
              "      <td>yes</td>\n",
              "      <td>northwest</td>\n",
              "      <td>29141.36030</td>\n",
              "    </tr>\n",
              "  </tbody>\n",
              "</table>\n",
              "<p>1338 rows × 7 columns</p>\n",
              "</div>"
            ],
            "text/plain": [
              "      age     sex     bmi  children smoker     region      charges\n",
              "0      19  female  27.900         0    yes  southwest  16884.92400\n",
              "1      18    male  33.770         1     no  southeast   1725.55230\n",
              "2      28    male  33.000         3     no  southeast   4449.46200\n",
              "3      33    male  22.705         0     no  northwest  21984.47061\n",
              "4      32    male  28.880         0     no  northwest   3866.85520\n",
              "...   ...     ...     ...       ...    ...        ...          ...\n",
              "1333   50    male  30.970         3     no  northwest  10600.54830\n",
              "1334   18  female  31.920         0     no  northeast   2205.98080\n",
              "1335   18  female  36.850         0     no  southeast   1629.83350\n",
              "1336   21  female  25.800         0     no  southwest   2007.94500\n",
              "1337   61  female  29.070         0    yes  northwest  29141.36030\n",
              "\n",
              "[1338 rows x 7 columns]"
            ]
          },
          "metadata": {},
          "execution_count": 6
        }
      ]
    },
    {
      "cell_type": "code",
      "metadata": {
        "colab": {
          "base_uri": "https://localhost:8080/",
          "height": 226
        },
        "id": "W02dSScZ5BKR",
        "outputId": "84d396cc-f2be-4fc4-b68a-0074fe8a8a67"
      },
      "source": [
        "insurance_one_hot = pd.get_dummies(insurance)\n",
        "insurance_one_hot.head()"
      ],
      "execution_count": 8,
      "outputs": [
        {
          "output_type": "execute_result",
          "data": {
            "text/html": [
              "<div>\n",
              "<style scoped>\n",
              "    .dataframe tbody tr th:only-of-type {\n",
              "        vertical-align: middle;\n",
              "    }\n",
              "\n",
              "    .dataframe tbody tr th {\n",
              "        vertical-align: top;\n",
              "    }\n",
              "\n",
              "    .dataframe thead th {\n",
              "        text-align: right;\n",
              "    }\n",
              "</style>\n",
              "<table border=\"1\" class=\"dataframe\">\n",
              "  <thead>\n",
              "    <tr style=\"text-align: right;\">\n",
              "      <th></th>\n",
              "      <th>age</th>\n",
              "      <th>bmi</th>\n",
              "      <th>children</th>\n",
              "      <th>charges</th>\n",
              "      <th>sex_female</th>\n",
              "      <th>sex_male</th>\n",
              "      <th>smoker_no</th>\n",
              "      <th>smoker_yes</th>\n",
              "      <th>region_northeast</th>\n",
              "      <th>region_northwest</th>\n",
              "      <th>region_southeast</th>\n",
              "      <th>region_southwest</th>\n",
              "    </tr>\n",
              "  </thead>\n",
              "  <tbody>\n",
              "    <tr>\n",
              "      <th>0</th>\n",
              "      <td>19</td>\n",
              "      <td>27.900</td>\n",
              "      <td>0</td>\n",
              "      <td>16884.92400</td>\n",
              "      <td>1</td>\n",
              "      <td>0</td>\n",
              "      <td>0</td>\n",
              "      <td>1</td>\n",
              "      <td>0</td>\n",
              "      <td>0</td>\n",
              "      <td>0</td>\n",
              "      <td>1</td>\n",
              "    </tr>\n",
              "    <tr>\n",
              "      <th>1</th>\n",
              "      <td>18</td>\n",
              "      <td>33.770</td>\n",
              "      <td>1</td>\n",
              "      <td>1725.55230</td>\n",
              "      <td>0</td>\n",
              "      <td>1</td>\n",
              "      <td>1</td>\n",
              "      <td>0</td>\n",
              "      <td>0</td>\n",
              "      <td>0</td>\n",
              "      <td>1</td>\n",
              "      <td>0</td>\n",
              "    </tr>\n",
              "    <tr>\n",
              "      <th>2</th>\n",
              "      <td>28</td>\n",
              "      <td>33.000</td>\n",
              "      <td>3</td>\n",
              "      <td>4449.46200</td>\n",
              "      <td>0</td>\n",
              "      <td>1</td>\n",
              "      <td>1</td>\n",
              "      <td>0</td>\n",
              "      <td>0</td>\n",
              "      <td>0</td>\n",
              "      <td>1</td>\n",
              "      <td>0</td>\n",
              "    </tr>\n",
              "    <tr>\n",
              "      <th>3</th>\n",
              "      <td>33</td>\n",
              "      <td>22.705</td>\n",
              "      <td>0</td>\n",
              "      <td>21984.47061</td>\n",
              "      <td>0</td>\n",
              "      <td>1</td>\n",
              "      <td>1</td>\n",
              "      <td>0</td>\n",
              "      <td>0</td>\n",
              "      <td>1</td>\n",
              "      <td>0</td>\n",
              "      <td>0</td>\n",
              "    </tr>\n",
              "    <tr>\n",
              "      <th>4</th>\n",
              "      <td>32</td>\n",
              "      <td>28.880</td>\n",
              "      <td>0</td>\n",
              "      <td>3866.85520</td>\n",
              "      <td>0</td>\n",
              "      <td>1</td>\n",
              "      <td>1</td>\n",
              "      <td>0</td>\n",
              "      <td>0</td>\n",
              "      <td>1</td>\n",
              "      <td>0</td>\n",
              "      <td>0</td>\n",
              "    </tr>\n",
              "  </tbody>\n",
              "</table>\n",
              "</div>"
            ],
            "text/plain": [
              "   age     bmi  children  ...  region_northwest  region_southeast  region_southwest\n",
              "0   19  27.900         0  ...                 0                 0                 1\n",
              "1   18  33.770         1  ...                 0                 1                 0\n",
              "2   28  33.000         3  ...                 0                 1                 0\n",
              "3   33  22.705         0  ...                 1                 0                 0\n",
              "4   32  28.880         0  ...                 1                 0                 0\n",
              "\n",
              "[5 rows x 12 columns]"
            ]
          },
          "metadata": {},
          "execution_count": 8
        }
      ]
    },
    {
      "cell_type": "code",
      "metadata": {
        "id": "-jtLsc7O6uqA"
      },
      "source": [
        ""
      ],
      "execution_count": null,
      "outputs": []
    }
  ]
}